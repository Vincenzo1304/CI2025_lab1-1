{
 "cells": [
  {
   "cell_type": "code",
   "execution_count": 42,
   "id": "c0882a9f",
   "metadata": {},
   "outputs": [],
   "source": [
    "import numpy as np\n",
    "from copy import deepcopy\n",
    "from icecream import ic"
   ]
  },
  {
   "cell_type": "code",
   "execution_count": 82,
   "id": "3adb670e",
   "metadata": {},
   "outputs": [],
   "source": [
    "NUM_KNAPSACKS = 2\n",
    "NUM_ITEMS = 10\n",
    "NUM_DIMENSIONS = 2"
   ]
  },
  {
   "cell_type": "code",
   "execution_count": 83,
   "id": "2db51e99",
   "metadata": {},
   "outputs": [],
   "source": [
    "VALUES = np.random.randint(0, 100, size=NUM_ITEMS) ## valori degli oggetti\n",
    "WEIGHTS = np.random.randint(0, 100, size=(NUM_ITEMS, NUM_DIMENSIONS)) ## pesi degli oggetti (n.b ogni peso ha più dimensioni e i constraint devono essere rispettati in ogni dimensione)\n",
    "CONSTRAINTS = np.random.randint(0, 100 * NUM_ITEMS // NUM_KNAPSACKS, size= (NUM_KNAPSACKS, NUM_DIMENSIONS)) ## tante quante le dimensioni "
   ]
  },
  {
   "cell_type": "code",
   "execution_count": 84,
   "id": "2abb812d",
   "metadata": {},
   "outputs": [
    {
     "data": {
      "text/plain": [
       "array([[ 69,  28],\n",
       "       [329,   7]], dtype=int32)"
      ]
     },
     "execution_count": 84,
     "metadata": {},
     "output_type": "execute_result"
    }
   ],
   "source": [
    "CONSTRAINTS\n",
    "# ogni zaino è una riga e ogni colonna è il constraint sulla dimensione"
   ]
  },
  {
   "cell_type": "markdown",
   "id": "8e0e0673",
   "metadata": {},
   "source": [
    "## TEST PROBLEMS"
   ]
  },
  {
   "cell_type": "code",
   "execution_count": 18,
   "id": "5595db9c",
   "metadata": {},
   "outputs": [
    {
     "data": {
      "text/plain": [
       "array([[524, 561],\n",
       "       [ 75, 102],\n",
       "       [ 74, 174]], dtype=int32)"
      ]
     },
     "execution_count": 18,
     "metadata": {},
     "output_type": "execute_result"
    }
   ],
   "source": [
    "# Problem 1:\n",
    "rng = np.random.default_rng(seed=42)\n",
    "NUM_KNAPSACKS = 3\n",
    "NUM_ITEMS = 20\n",
    "NUM_DIMENSIONS = 2\n",
    "VALUES = np.random.randint(0, 100, size=NUM_ITEMS) \n",
    "WEIGHTS = np.random.randint(0, 100, size=(NUM_ITEMS, NUM_DIMENSIONS)) \n",
    "CONSTRAINTS = np.random.randint(0, 100 * NUM_ITEMS // NUM_KNAPSACKS, size= (NUM_KNAPSACKS, NUM_DIMENSIONS)) \n",
    "CONSTRAINTS"
   ]
  },
  {
   "cell_type": "code",
   "execution_count": 68,
   "id": "9eed08a0",
   "metadata": {},
   "outputs": [
    {
     "data": {
      "text/plain": [
       "array([[4244, 5801, 7617, 8020, 6910, 2233, 9125, 9096,  958, 4395],\n",
       "       [ 688, 9492, 3977, 3724, 2903, 5283, 2239, 6657,  151, 8661],\n",
       "       [1332, 5809, 4424, 2146, 2179, 8503, 3085, 3197, 6309, 8226],\n",
       "       [3849, 2419, 5219, 9648, 4229, 8709, 7133, 7187, 1391, 7052],\n",
       "       [2965, 2051, 8815, 2427, 3476, 5279, 3244,  897, 3454, 4820],\n",
       "       [1510, 2520, 1577,   30, 2117, 5580, 3665, 3299, 4287, 1089],\n",
       "       [5633, 3141, 6000, 8330, 4783,  867, 3536, 9266, 5213, 3382],\n",
       "       [4288, 9418, 9951, 9056, 7996, 9856, 8500, 3208, 4863, 4504],\n",
       "       [1353, 5539, 3632, 4294, 7512, 3748, 2262, 2664, 2966, 1260],\n",
       "       [3824, 3079, 7131, 2628, 4435, 9777, 1302, 8938,  967, 9713]],\n",
       "      dtype=int32)"
      ]
     },
     "execution_count": 68,
     "metadata": {},
     "output_type": "execute_result"
    }
   ],
   "source": [
    "# Problem 2:\n",
    "rng = np.random.default_rng(seed=42)\n",
    "NUM_KNAPSACKS = 10\n",
    "NUM_ITEMS = 100\n",
    "NUM_DIMENSIONS = 10\n",
    "VALUES = np.random.randint(0, 1000, size=NUM_ITEMS) \n",
    "WEIGHTS = np.random.randint(0, 1000, size=(NUM_ITEMS, NUM_DIMENSIONS)) \n",
    "CONSTRAINTS = np.random.randint(0, 1000 * NUM_ITEMS // NUM_KNAPSACKS, size= (NUM_KNAPSACKS, NUM_DIMENSIONS)) \n",
    "CONSTRAINTS"
   ]
  },
  {
   "cell_type": "code",
   "execution_count": 39,
   "id": "117380d6",
   "metadata": {},
   "outputs": [
    {
     "data": {
      "text/plain": [
       "array([[34307, 33812, 35187, ..., 60162, 94435, 15001],\n",
       "       [27809, 60650, 88223, ..., 97054, 78451, 21609],\n",
       "       [40755, 41394, 79238, ..., 22568, 42195, 18281],\n",
       "       ...,\n",
       "       [40502, 14271, 81249, ..., 60691, 93999, 65926],\n",
       "       [15057, 55796, 44630, ..., 95441, 54781, 37867],\n",
       "       [64145, 34154, 88442, ..., 26869, 87073, 91514]],\n",
       "      shape=(100, 100), dtype=int32)"
      ]
     },
     "execution_count": 39,
     "metadata": {},
     "output_type": "execute_result"
    }
   ],
   "source": [
    "# Problem 3:\n",
    "rng = np.random.default_rng(seed=42)\n",
    "NUM_KNAPSACKS = 100\n",
    "NUM_ITEMS = 5000\n",
    "NUM_DIMENSIONS = 100\n",
    "VALUES = np.random.randint(0, 1000, size=NUM_ITEMS) \n",
    "WEIGHTS = np.random.randint(0, 1000, size=(NUM_ITEMS, NUM_DIMENSIONS)) \n",
    "CONSTRAINTS = np.random.randint(1000 * 10, 1000 * 2 * NUM_ITEMS // NUM_KNAPSACKS, size= (NUM_KNAPSACKS, NUM_DIMENSIONS)) \n",
    "CONSTRAINTS\n"
   ]
  },
  {
   "cell_type": "markdown",
   "id": "73ff7771",
   "metadata": {},
   "source": [
    "SOLUTION"
   ]
  },
  {
   "cell_type": "code",
   "execution_count": null,
   "id": "0f9b57bb",
   "metadata": {},
   "outputs": [],
   "source": [
    "# not used\n",
    "def enforce_unique_assignment(sol):\n",
    "    for i in range(NUM_ITEMS):\n",
    "        assigned = np.where(sol[:, i])[0]\n",
    "        if len(assigned) > 1:\n",
    "            keep = np.random.choice(assigned)\n",
    "            sol[:, i] = False\n",
    "            sol[keep, i] = True\n",
    "    return sol"
   ]
  },
  {
   "cell_type": "code",
   "execution_count": 41,
   "id": "2ad0c933",
   "metadata": {},
   "outputs": [],
   "source": [
    "# Check if the solution is valid\n",
    "def check_validity(solution)-> bool:\n",
    "    valid_per_bag = []\n",
    "    for b in range(NUM_KNAPSACKS):\n",
    "        # seleziona gli item presenti nello zaino b\n",
    "        items_in_b = np.where(solution[b])[0]            # indici degli item presenti\n",
    "        total_weight = WEIGHTS[items_in_b].sum(axis=0)   # somma per dimensione\n",
    "        valid_per_bag.append(np.all(total_weight <= CONSTRAINTS[b]))\n",
    "\n",
    "    overall_valid = all(valid_per_bag)\n",
    "    return overall_valid\n"
   ]
  },
  {
   "cell_type": "code",
   "execution_count": null,
   "id": "b18cf052",
   "metadata": {},
   "outputs": [],
   "source": [
    "\n",
    "\n",
    "def tweak_non_valid_A(knapsacs:  list[set] ) -> list[set]:\n",
    "    ## remove objects from all the knapsacks that are in overweight\n",
    "    new_bags = deepcopy(knapsacs)\n",
    "    #overweight knapsacks (bags)\n",
    "    weights_per_bag = new_bags.astype(int).dot(WEIGHTS)\n",
    "    overweight_mask = weights_per_bag > CONSTRAINTS\n",
    "    overweight_bags = np.where(np.any(overweight_mask, axis=1))[0]\n",
    "\n",
    "    for b in overweight_bags:\n",
    "    \n",
    "        items_in_bag = np.where(new_bags[b])[0]\n",
    "        \n",
    "        if len(items_in_bag) > 0:\n",
    "            item_to_remove = np.random.choice(items_in_bag)\n",
    "            new_bags[b][item_to_remove] = False \n",
    "    return new_bags\n",
    "\n",
    "def tweak_valid_A(knapsack: list[set]) -> list[set]:\n",
    "    ## it estract a knapsac and an element if it is on the knapsac it swap it with another element not in the knapsac\n",
    "    new_bags = deepcopy(knapsack)\n",
    "\n",
    "    b = np.random.randint(0, NUM_KNAPSACKS)\n",
    "    item= np.random.randint(0, NUM_ITEMS)\n",
    "\n",
    "    \n",
    "    items_in_selected_bag = np.where(new_bags[b])[0]\n",
    "    items_in_other_bags = np.where(np.any(new_bags[np.arange(NUM_KNAPSACKS) != b], axis=0))[0]\n",
    "    \n",
    "    if item in items_in_selected_bag:\n",
    "        ## remove it from the selected knapsack\n",
    "        new_bags[b][item] = False\n",
    "        ## add the item not in another knapsack \n",
    "        other_bags = [i for i in range(NUM_KNAPSACKS) if i != b]\n",
    "        new_b = np.random.choice(other_bags)\n",
    "        new_bags[new_b][item] = True\n",
    "    else :\n",
    "        ## add it to the selected knapsack\n",
    "        new_bags[b][item] = True  \n",
    "        if item in items_in_other_bags:\n",
    "            ## remove from the knapsack that currently  has it\n",
    "            knapsack_having_i = np.where(new_bags[:, item])[0][0]\n",
    "            new_bags[knapsack_having_i][item] = False\n",
    "            \n",
    "        elif not check_validity(new_bags) :\n",
    "            ##if the item is not in any knapsack\n",
    "            ## remove a random item from the selected knapsack \n",
    "            if len(items_in_selected_bag) > 0:\n",
    "                item_to_remove = np.random.choice(items_in_selected_bag)\n",
    "                new_bags[b][item_to_remove] = False\n",
    "\n",
    "    return new_bags"
   ]
  },
  {
   "cell_type": "code",
   "execution_count": null,
   "id": "7a9303d1",
   "metadata": {},
   "outputs": [],
   "source": [
    "def cost(solution: list[set]) -> (float, float, bool):\n",
    "\n",
    "    weights_per_bag = solution.astype(int).dot(WEIGHTS)  \n",
    "    total_overweight = weights_per_bag - CONSTRAINTS\n",
    "    total_value = np.sum(solution.astype(int).dot(VALUES))\n",
    "  \n",
    "    valid = not np.any(total_overweight > 0)\n",
    "\n",
    "    # penality: sum of overweights\n",
    "    penalty = np.sum(np.maximum(0, total_overweight))\n",
    "    # fitness\n",
    "    alpha = 10\n",
    "    fitness = total_value - alpha * penalty\n",
    "\n",
    "    return fitness, penalty, valid"
   ]
  },
  {
   "cell_type": "code",
   "execution_count": 65,
   "id": "15ec7d59",
   "metadata": {},
   "outputs": [
    {
     "data": {
      "text/plain": [
       "array([[False, False, False, ..., False, False, False],\n",
       "       [False, False, False, ..., False, False, False],\n",
       "       [False, False, False, ..., False, False, False],\n",
       "       ...,\n",
       "       [False, False, False, ..., False, False, False],\n",
       "       [False, False, False, ..., False, False, False],\n",
       "       [False, False, False, ..., False, False, False]], shape=(100, 5000))"
      ]
     },
     "execution_count": 65,
     "metadata": {},
     "output_type": "execute_result"
    }
   ],
   "source": [
    "#random solution\n",
    "current_solution = np.zeros((NUM_KNAPSACKS, NUM_ITEMS), dtype=bool)\n",
    "for item in range(NUM_ITEMS):\n",
    "    if np.random.random() < 0.5:  # probabilità di assegnare l'oggetto\n",
    "        knapsack = np.random.randint(NUM_KNAPSACKS)\n",
    "        current_solution[knapsack, item] = True\n",
    "first_solution = deepcopy(current_solution)\n",
    "first_solution\n"
   ]
  },
  {
   "cell_type": "code",
   "execution_count": null,
   "id": "2bbe1e02",
   "metadata": {},
   "outputs": [
    {
     "name": "stderr",
     "output_type": "stream",
     "text": [
      "ic| steps: 0, current_fitness: np.int64(-5203623)\n",
      "ic| steps: 1000, current_fitness: np.int64(1113625)\n",
      "ic| steps: 2000, current_fitness: np.int64(1188664)\n",
      "ic| steps: 3000, current_fitness: np.int64(1238928)\n",
      "ic| steps: 4000, current_fitness: np.int64(1284045)\n",
      "ic| steps: 5000, current_fitness: np.int64(1324410)\n",
      "ic| steps: 6000, current_fitness: np.int64(1357728)\n",
      "ic| steps: 7000, current_fitness: np.int64(1392705)\n",
      "ic| steps: 8000, current_fitness: np.int64(1426423)\n",
      "ic| steps: 9000, current_fitness: np.int64(1451199)\n"
     ]
    },
    {
     "name": "stdout",
     "output_type": "stream",
     "text": [
      "0 1466658 True\n"
     ]
    }
   ],
   "source": [
    "\n",
    "\n",
    "(current_fitness, current_cost, current_valid) = cost(current_solution)\n",
    "\n",
    "MAX_STEPS = 10000\n",
    "\n",
    "\n",
    "for steps in range(MAX_STEPS):\n",
    "    if steps % 1000==0:\n",
    "         ic(steps,current_fitness)\n",
    "    \n",
    "    if current_valid:\n",
    "        ## valid solution\n",
    "        new_solution = tweak_valid_A(current_solution)\n",
    "        (new_fitness, new_cost, new_valid) = cost(new_solution)\n",
    "        if new_valid:\n",
    "            if new_fitness>= current_fitness: \n",
    "                current_cost= new_cost\n",
    "                current_fitness= new_fitness\n",
    "                current_solution = new_solution\n",
    "                current_valid= new_valid\n",
    "                continue\n",
    "\n",
    "    else: \n",
    "        ## invalid solution\n",
    "        new_solution = tweak_non_valid_A(current_solution)\n",
    "        (new_fitness, new_cost, new_valid) = cost(new_solution)\n",
    "\n",
    "        if not new_valid: \n",
    "            \n",
    "        #still invalid solution \n",
    "            if new_cost < current_cost or (new_cost== current_cost and new_fitness>=current_fitness): \n",
    "                # new solution is closer to being valid\n",
    "                current_cost = new_cost\n",
    "                current_solution = new_solution\n",
    "                current_fitness= new_fitness\n",
    "                current_valid= new_valid\n",
    "                continue\n",
    "            else:\n",
    "                continue\n",
    "        else:\n",
    "            ## new solution is valid so it's better \n",
    "            current_cost = new_cost\n",
    "            current_solution = new_solution\n",
    "            current_fitness= new_fitness\n",
    "            current_valid= new_valid\n",
    "            continue\n",
    "\n",
    "    \n",
    "\n",
    "print(current_cost, current_fitness, current_valid)\n",
    "\n"
   ]
  },
  {
   "cell_type": "code",
   "execution_count": 72,
   "id": "01f04a97",
   "metadata": {},
   "outputs": [
    {
     "data": {
      "text/plain": [
       "np.int64(1466658)"
      ]
     },
     "execution_count": 72,
     "metadata": {},
     "output_type": "execute_result"
    }
   ],
   "source": [
    "current_fitness"
   ]
  },
  {
   "cell_type": "code",
   "execution_count": 68,
   "id": "370ee598",
   "metadata": {},
   "outputs": [
    {
     "data": {
      "text/plain": [
       "array([[False, False, False, ..., False, False, False],\n",
       "       [False, False, False, ..., False, False, False],\n",
       "       [False, False, False, ..., False, False, False],\n",
       "       ...,\n",
       "       [False, False, False, ..., False, False, False],\n",
       "       [False, False, False, ..., False, False, False],\n",
       "       [False, False, False, ..., False, False, False]], shape=(100, 5000))"
      ]
     },
     "execution_count": 68,
     "metadata": {},
     "output_type": "execute_result"
    }
   ],
   "source": [
    "solution=current_solution\n",
    "solution"
   ]
  },
  {
   "cell_type": "code",
   "execution_count": 69,
   "id": "69c75aeb",
   "metadata": {},
   "outputs": [
    {
     "data": {
      "text/plain": [
       "True"
      ]
     },
     "execution_count": 69,
     "metadata": {},
     "output_type": "execute_result"
    }
   ],
   "source": [
    "\n",
    "check_validity(solution)"
   ]
  },
  {
   "cell_type": "code",
   "execution_count": 70,
   "id": "912e1477",
   "metadata": {},
   "outputs": [
    {
     "data": {
      "text/plain": [
       "np.True_"
      ]
     },
     "execution_count": 70,
     "metadata": {},
     "output_type": "execute_result"
    }
   ],
   "source": [
    "# Check that the same object does not appear in multiple knapsacks\n",
    "np.all(solution.sum(axis=0) <= 1)"
   ]
  },
  {
   "cell_type": "code",
   "execution_count": 71,
   "id": "5356ef26",
   "metadata": {},
   "outputs": [
    {
     "data": {
      "text/plain": [
       "(array([[39.53129099, 43.63835325, 29.8007787 , ..., 20.78222134,\n",
       "         13.45158045, 79.50136658],\n",
       "        [36.04948038, 19.66859027, 17.3390159 , ..., 10.43645805,\n",
       "         17.65305732, 60.84964598],\n",
       "        [31.93227825, 29.49219694, 18.66528686, ..., 60.5370436 ,\n",
       "         30.12916222, 75.70154806],\n",
       "        ...,\n",
       "        [31.96138462, 96.17405928, 17.92883605, ..., 18.98139757,\n",
       "         14.52355876, 19.30952887],\n",
       "        [84.70478847, 14.13183741, 28.95361864, ..., 11.21111472,\n",
       "         23.86776437, 26.6458922 ],\n",
       "        [18.70293865, 37.18158927, 15.63171344, ..., 51.57244408,\n",
       "         15.54213132, 12.07137706]], shape=(100, 100)),\n",
       " np.int32(1466658))"
      ]
     },
     "execution_count": 71,
     "metadata": {},
     "output_type": "execute_result"
    }
   ],
   "source": [
    "def solution_evaluation(solution):\n",
    "    total_value = 0\n",
    "    percentage_weight_over_constraint = np.zeros((NUM_KNAPSACKS, NUM_DIMENSIONS))\n",
    "\n",
    "    for b in range(NUM_KNAPSACKS): \n",
    "        knapsack_weight = np.zeros(NUM_DIMENSIONS)\n",
    "        knapsack_value = 0\n",
    "        for i in range(NUM_ITEMS):\n",
    "            if solution[b][i]:\n",
    "                knapsack_value += VALUES[i]\n",
    "                knapsack_weight += WEIGHTS[i]\n",
    "        total_value += knapsack_value\n",
    "        percentage_weight_over_constraint[b] = knapsack_weight*100/CONSTRAINTS[b]\n",
    "\n",
    "\n",
    "    return percentage_weight_over_constraint, total_value\n",
    "\n",
    "solution_evaluation(solution)"
   ]
  },
  {
   "cell_type": "markdown",
   "id": "eb6d7ec8",
   "metadata": {},
   "source": [
    "## comment:\n",
    "After testing several approaches, I found that a more \"explorative\" tweak (tweak valid) function with fewer constraints performs better, as it helps avoid stagnation or early stalling. "
   ]
  }
 ],
 "metadata": {
  "kernelspec": {
   "display_name": "Python 3",
   "language": "python",
   "name": "python3"
  },
  "language_info": {
   "codemirror_mode": {
    "name": "ipython",
    "version": 3
   },
   "file_extension": ".py",
   "mimetype": "text/x-python",
   "name": "python",
   "nbconvert_exporter": "python",
   "pygments_lexer": "ipython3",
   "version": "3.13.2"
  }
 },
 "nbformat": 4,
 "nbformat_minor": 5
}
