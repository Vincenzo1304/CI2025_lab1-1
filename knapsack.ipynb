{
 "cells": [
  {
   "cell_type": "markdown",
   "id": "11fa4375",
   "metadata": {},
   "source": [
    "Copyright **`(c)`** 2025 Giovanni Squillero `<giovanni.squillero@polito.it>`  \n",
    "[`https://github.com/squillero/computational-intelligence`](https://github.com/squillero/computational-intelligence)  \n",
    "Free under certain conditions — see the [`license`](https://github.com/squillero/computational-intelligence/blob/master/LICENSE.md) for details.  "
   ]
  },
  {
   "cell_type": "code",
   "execution_count": 1,
   "id": "c0882a9f",
   "metadata": {},
   "outputs": [],
   "source": [
    "import numpy as np\n",
    "from copy import deepcopy"
   ]
  },
  {
   "cell_type": "code",
   "execution_count": 42,
   "id": "3adb670e",
   "metadata": {},
   "outputs": [],
   "source": [
    "NUM_KNAPSACKS = 2\n",
    "NUM_ITEMS = 10\n",
    "NUM_DIMENSIONS = 2"
   ]
  },
  {
   "cell_type": "code",
   "execution_count": 43,
   "id": "2db51e99",
   "metadata": {},
   "outputs": [],
   "source": [
    "VALUES = np.random.randint(0, 100, size=NUM_ITEMS) ## valori degli oggetti\n",
    "WEIGHTS = np.random.randint(0, 100, size=(NUM_ITEMS, NUM_DIMENSIONS)) ## pesi degli oggetti (n.b ogni peso ha più dimensioni e i constraint devono essere rispettati in ogni dimensione)\n",
    "CONSTRAINTS = np.random.randint(0, 100 * NUM_ITEMS // NUM_KNAPSACKS, size= (NUM_KNAPSACKS, NUM_DIMENSIONS)) ## tante quante le dimensioni "
   ]
  },
  {
   "cell_type": "code",
   "execution_count": 5,
   "id": "2abb812d",
   "metadata": {},
   "outputs": [
    {
     "data": {
      "text/plain": [
       "array([[379, 157],\n",
       "       [371, 437]], dtype=int32)"
      ]
     },
     "execution_count": 5,
     "metadata": {},
     "output_type": "execute_result"
    }
   ],
   "source": [
    "CONSTRAINTS\n",
    "# ogni zaino è una riga e ogni colonna è il constraint sulla dimensione"
   ]
  },
  {
   "cell_type": "code",
   "execution_count": 20,
   "id": "dade6b3c",
   "metadata": {},
   "outputs": [],
   "source": [
    "# A random solution\n",
    "solution = np.array(\n",
    "    [np.random.random(NUM_ITEMS) < 0.5 for _ in range(NUM_KNAPSACKS)], dtype=np.bool\n",
    ")"
   ]
  },
  {
   "cell_type": "code",
   "execution_count": 45,
   "id": "a817813a",
   "metadata": {},
   "outputs": [],
   "source": [
    "def tweak_non_valida(knapsacs:  list[set] ) -> list[set]:\n",
    "    ## conviene togliere un oggetto da uno zaino che è in sovrappeso\n",
    "    new_bags = deepcopy(knapsacs)\n",
    "    # trova uno zaino in sovrappeso\n",
    "    overweight_bags = []\n",
    "    for b in range(NUM_KNAPSACKS):\n",
    "        total_weight = np.zeros(NUM_DIMENSIONS)\n",
    "        for i in range(NUM_ITEMS):\n",
    "            if new_bags[b][i]:\n",
    "                total_weight += WEIGHTS[i]\n",
    "        if np.any(total_weight > CONSTRAINTS[b]):\n",
    "            overweight_bags.append(b)\n",
    "    for b in overweight_bags:\n",
    "        if len(new_bags[b]) > 0:\n",
    "            item_to_remove = np.random.choice(list(new_bags[b][new_bags[b]>0]))\n",
    "            new_bags[b][item_to_remove] = False\n",
    "            break  # tweak only one bag\n",
    "    return new_bags"
   ]
  },
  {
   "cell_type": "code",
   "execution_count": 34,
   "id": "775833ec",
   "metadata": {},
   "outputs": [],
   "source": [
    "def tweak_valida(knapsack: list[set]) -> list[set]:\n",
    "    ## conviene aggiungere un oggetto a uno zaino che non è in sovrappeso\n",
    "    new_bags = deepcopy(knapsack)\n",
    "    for b in range(NUM_KNAPSACKS):\n",
    "\n",
    "        # calcolo il peso attuale dello zaino\n",
    "        knapsack_weight = np.zeros(NUM_DIMENSIONS)\n",
    "        for i in range(NUM_ITEMS):\n",
    "            if new_bags[b][i]:\n",
    "                knapsack_weight += WEIGHTS[i]\n",
    "        \n",
    "        ## prendo un oggetto a caso se non è presente in nessuno zaino lo aggiungo a quello più vuoto al contrario lo scambio\n",
    "        item_to_add = np.random.choice([i for i in range(NUM_ITEMS) ])\n",
    "        if item_to_add in new_bags[b]:\n",
    "            # lo tolgo e lo metto in un altro zaino\n",
    "            new_bags[b][item_to_add]=False\n",
    "            other_bags = [i for i in range(NUM_KNAPSACKS) if i != b]\n",
    "            other_bag = np.random.choice(other_bags)\n",
    "            new_bags[other_bag][item_to_add] = True\n",
    "        else:\n",
    "            ## lo aggiungo e lo tolgo da un altro zaino se presente\n",
    "\n",
    "            new_knapsack_weight = knapsack_weight+ WEIGHTS[item_to_add]\n",
    "            if np.any(new_knapsack_weight > CONSTRAINTS[b]):\n",
    "                # non posso aggiungerlo\n",
    "                continue\n",
    "            new_bags[b][item_to_add]=False\n",
    "            for ob in range(NUM_KNAPSACKS):\n",
    "                if ob != b and item_to_add in new_bags[ob]:\n",
    "                    new_bags[ob][item_to_add] = False\n",
    "            \n",
    "    return new_bags"
   ]
  },
  {
   "cell_type": "code",
   "execution_count": 28,
   "id": "f7e5b748",
   "metadata": {},
   "outputs": [],
   "source": [
    "## il costo di una soluzione è dato dalla somma dei valori degli oggetti meno la somma dei sovrappesi\n",
    "# se la soluzione è valida il costo è negativo\n",
    "def cost(solution: list[set]) -> (int, int):\n",
    "    total_value = 0\n",
    "    total_overweight = np.zeros((NUM_KNAPSACKS, NUM_DIMENSIONS))\n",
    "    for b in range(NUM_KNAPSACKS): \n",
    "        knapsac_weight=np.zeros(NUM_DIMENSIONS)\n",
    "        knapsac_value=0\n",
    "        for i in range(NUM_ITEMS):\n",
    "            if solution[b][i]:\n",
    "                knapsac_value += VALUES[i]\n",
    "                knapsac_weight+=WEIGHTS[i]\n",
    "\n",
    "        total_value+= knapsac_value\n",
    "        overweight= knapsac_weight-CONSTRAINTS[b]\n",
    "        total_overweight[b]=overweight\n",
    "        ## costo deve essere negativo se eccede di peso e positivo se no\n",
    "    cost=0\n",
    "    ## somma de pesi che eccedonono -> soluzione non valida\n",
    "    cost = np.sum(total_overweight[total_overweight > 0])\n",
    "    \n",
    "    ## se la soluzione è valida \n",
    "    if cost==0:\n",
    "        cost=np.sum(total_overweight) ## sarà negativo o zero\n",
    "\n",
    "    return (cost, total_value)"
   ]
  },
  {
   "cell_type": "code",
   "execution_count": 25,
   "id": "483a054a",
   "metadata": {},
   "outputs": [
    {
     "data": {
      "text/plain": [
       "(np.float64(18.0), np.int32(333))"
      ]
     },
     "execution_count": 25,
     "metadata": {},
     "output_type": "execute_result"
    }
   ],
   "source": [
    "solution = np.zeros((NUM_KNAPSACKS, NUM_ITEMS), dtype=bool)\n",
    "for item in range(NUM_ITEMS):\n",
    "    if np.random.random() < 0.5:  # probabilità di assegnare l'oggetto\n",
    "        knapsack = np.random.randint(NUM_KNAPSACKS)\n",
    "        solution[knapsack, item] = True\n",
    "cost(solution)"
   ]
  },
  {
   "cell_type": "code",
   "execution_count": null,
   "id": "d307e2e6",
   "metadata": {},
   "outputs": [
    {
     "name": "stdout",
     "output_type": "stream",
     "text": [
      "-479618.0 2840\n"
     ]
    }
   ],
   "source": [
    "# current_solution =solution = np.array(\n",
    "#     [np.random.random(NUM_ITEMS) < 0.5 for _ in range(NUM_KNAPSACKS)], dtype=np.bool\n",
    "# )\n",
    "\n",
    "# Ogni oggetto viene assegnato a uno zaino casuale (o nessuno)\n",
    "current_solution = np.zeros((NUM_KNAPSACKS, NUM_ITEMS), dtype=bool)\n",
    "for item in range(NUM_ITEMS):\n",
    "    if np.random.random() < 0.5:  # probabilità di assegnare l'oggetto\n",
    "        knapsack = np.random.randint(NUM_KNAPSACKS)\n",
    "        current_solution[knapsack, item] = True\n",
    "\n",
    "(current_cost, current_value) = cost(current_solution)\n",
    "\n",
    "\n",
    "MAX_STEPS = 500\n",
    "\n",
    "\n",
    "for steps in range(MAX_STEPS):\n",
    "    if current_cost == 0:\n",
    "        break\n",
    "\n",
    "    if current_cost < 0:\n",
    "        ## soluzione valida\n",
    "        new_solution = tweak_valida(current_solution)\n",
    "        (new_cost, new_value) = cost(new_solution)\n",
    "        if new_cost > 0:\n",
    "            ## la nuova soluzione non è valida -> scarto\n",
    "            continue\n",
    "        if new_cost > current_cost and new_value> current_value: # current < new <= 0\n",
    "            ## la nuova soluzione è valida e il costo si avvicina a zero sempre di più (costo ideale)\n",
    "            current_cost= new_cost\n",
    "            current_solution = new_solution\n",
    "            current_value = new_value\n",
    "            continue\n",
    "\n",
    "    else: \n",
    "        ## soluzione non valida\n",
    "        new_solution = tweak_non_valida(current_solution)\n",
    "        (new_cost, new_value) = cost(new_solution)\n",
    "\n",
    "        if new_cost > 0: \n",
    "        ## la nuova soluzione non è valida anche essa \n",
    "            if new_cost < current_cost: # 0<= new < current\n",
    "                # la nuova soluzione si avvicina a essere valida \n",
    "                current_cost = new_cost\n",
    "                current_solution = new_solution\n",
    "                continue\n",
    "            else:\n",
    "                continue\n",
    "        else:\n",
    "            ## la nuova soluzione è valida \n",
    "            current_cost = new_cost\n",
    "            current_solution = new_solution\n",
    "            current_value = new_value\n",
    "            continue\n",
    "    \n",
    "\n",
    "print(current_cost, current_value)"
   ]
  },
  {
   "cell_type": "code",
   "execution_count": 63,
   "id": "f21d5749",
   "metadata": {},
   "outputs": [
    {
     "data": {
      "text/plain": [
       "array([[False, False, False, False, False, False, False, False, False,\n",
       "        False, False, False, False, False, False, False, False, False,\n",
       "        False, False, False, False, False, False, False, False, False,\n",
       "        False, False, False, False, False, False, False, False, False,\n",
       "        False, False, False, False, False, False, False, False, False,\n",
       "        False, False, False, False, False, False, False, False, False,\n",
       "        False, False, False, False, False, False, False, False, False,\n",
       "        False, False, False, False, False, False, False, False, False,\n",
       "        False, False, False, False, False, False, False, False, False,\n",
       "        False, False, False, False, False, False, False, False, False,\n",
       "        False, False, False, False, False, False, False, False, False,\n",
       "        False],\n",
       "       [ True,  True, False, False, False, False, False, False, False,\n",
       "        False, False, False, False, False, False, False, False, False,\n",
       "        False, False, False, False, False, False, False, False, False,\n",
       "        False, False, False, False, False, False, False, False, False,\n",
       "        False, False, False, False, False, False, False, False, False,\n",
       "        False, False, False, False, False, False, False, False, False,\n",
       "        False, False, False, False, False, False, False, False, False,\n",
       "        False, False, False, False, False, False, False, False, False,\n",
       "        False, False, False, False, False, False, False, False, False,\n",
       "        False, False, False, False, False, False, False, False, False,\n",
       "        False, False, False, False, False, False, False, False, False,\n",
       "        False],\n",
       "       [False, False, False, False, False, False, False, False, False,\n",
       "        False, False, False, False, False, False, False, False, False,\n",
       "        False, False, False, False, False, False, False, False, False,\n",
       "        False, False, False, False, False, False, False, False, False,\n",
       "        False, False, False, False, False, False, False, False, False,\n",
       "        False, False, False, False, False, False, False, False, False,\n",
       "        False, False, False, False, False, False, False, False, False,\n",
       "        False, False, False, False, False, False, False, False, False,\n",
       "        False, False, False, False, False, False, False, False, False,\n",
       "        False, False, False, False, False, False, False, False, False,\n",
       "        False, False, False, False, False, False, False, False, False,\n",
       "        False],\n",
       "       [False, False, False, False, False, False, False, False, False,\n",
       "        False, False, False, False, False, False, False, False, False,\n",
       "        False, False, False, False, False, False, False, False, False,\n",
       "        False, False, False, False, False, False, False, False, False,\n",
       "        False, False, False, False, False, False, False, False, False,\n",
       "        False, False, False, False, False, False, False, False, False,\n",
       "        False, False, False, False, False, False, False, False, False,\n",
       "        False, False, False, False, False, False, False, False, False,\n",
       "        False, False, False, False, False, False, False, False, False,\n",
       "        False, False, False, False, False, False, False, False, False,\n",
       "        False, False, False, False, False, False, False, False, False,\n",
       "        False],\n",
       "       [False,  True, False, False, False, False, False, False, False,\n",
       "        False, False, False, False, False, False, False, False, False,\n",
       "        False, False, False, False, False, False, False, False, False,\n",
       "        False, False, False, False, False, False, False, False, False,\n",
       "        False, False, False, False, False, False, False, False, False,\n",
       "        False, False, False, False, False, False, False, False, False,\n",
       "        False, False, False, False, False, False, False, False, False,\n",
       "        False, False, False, False, False, False, False, False, False,\n",
       "        False, False, False, False, False, False, False, False, False,\n",
       "        False, False, False, False, False, False, False, False, False,\n",
       "        False, False, False, False, False, False, False, False, False,\n",
       "        False],\n",
       "       [ True, False, False, False, False, False, False, False, False,\n",
       "        False, False, False, False, False, False, False, False, False,\n",
       "        False, False, False, False, False, False, False, False, False,\n",
       "        False, False, False, False, False, False, False, False, False,\n",
       "        False, False, False, False, False, False, False, False, False,\n",
       "        False, False, False, False, False, False, False, False, False,\n",
       "        False, False, False, False, False, False, False, False, False,\n",
       "        False, False, False, False, False, False, False, False, False,\n",
       "        False, False, False, False, False, False, False, False, False,\n",
       "        False, False, False, False, False, False, False, False, False,\n",
       "        False, False, False, False, False, False, False, False, False,\n",
       "        False],\n",
       "       [ True, False, False, False, False, False, False, False, False,\n",
       "        False, False, False, False, False, False, False, False, False,\n",
       "        False, False, False, False, False, False, False, False, False,\n",
       "        False, False, False, False, False, False, False, False, False,\n",
       "        False, False, False, False, False, False, False, False, False,\n",
       "        False, False, False, False, False, False, False, False, False,\n",
       "        False, False, False, False, False, False, False, False, False,\n",
       "        False, False, False, False, False, False, False, False, False,\n",
       "        False, False, False, False, False, False, False, False, False,\n",
       "        False, False, False, False, False, False, False, False, False,\n",
       "        False, False, False, False, False, False, False, False, False,\n",
       "        False],\n",
       "       [ True, False, False, False, False, False, False, False, False,\n",
       "        False, False, False, False, False, False, False, False, False,\n",
       "        False, False, False, False, False, False, False, False, False,\n",
       "        False, False, False, False, False, False, False, False, False,\n",
       "        False, False, False, False, False, False, False, False, False,\n",
       "        False, False, False, False, False, False, False, False, False,\n",
       "        False, False, False, False, False, False, False, False, False,\n",
       "        False, False, False, False, False, False, False, False, False,\n",
       "        False, False, False, False, False, False, False, False, False,\n",
       "        False, False, False, False, False, False, False, False, False,\n",
       "        False, False, False, False, False, False, False, False, False,\n",
       "        False],\n",
       "       [False,  True, False, False, False, False, False, False, False,\n",
       "        False, False, False, False, False, False, False, False, False,\n",
       "        False, False, False, False, False, False, False, False, False,\n",
       "        False, False, False, False, False, False, False, False, False,\n",
       "        False, False, False, False, False, False, False, False, False,\n",
       "        False, False, False, False, False, False, False, False, False,\n",
       "        False, False, False, False, False, False, False, False, False,\n",
       "        False, False, False, False, False, False, False, False, False,\n",
       "        False, False, False, False, False, False, False, False, False,\n",
       "        False, False, False, False, False, False, False, False, False,\n",
       "        False, False, False, False, False, False, False, False, False,\n",
       "        False],\n",
       "       [ True, False, False, False, False, False, False, False, False,\n",
       "        False, False, False, False, False, False, False, False, False,\n",
       "        False, False, False, False, False, False, False, False, False,\n",
       "        False, False, False, False, False, False, False, False, False,\n",
       "        False, False, False, False, False, False, False, False, False,\n",
       "        False, False, False, False, False, False, False, False, False,\n",
       "        False, False, False, False, False, False, False, False, False,\n",
       "        False, False, False, False, False, False, False, False, False,\n",
       "        False, False, False, False, False, False, False, False, False,\n",
       "        False, False, False, False, False, False, False, False, False,\n",
       "        False, False, False, False, False, False, False, False, False,\n",
       "        False]])"
      ]
     },
     "execution_count": 63,
     "metadata": {},
     "output_type": "execute_result"
    }
   ],
   "source": [
    "solution= current_solution\n",
    "solution"
   ]
  },
  {
   "cell_type": "code",
   "execution_count": 64,
   "id": "7de9a3fb",
   "metadata": {},
   "outputs": [
    {
     "data": {
      "text/plain": [
       "np.False_"
      ]
     },
     "execution_count": 64,
     "metadata": {},
     "output_type": "execute_result"
    }
   ],
   "source": [
    "# Check that the same object does not appear in multiple knapsacks\n",
    "np.all(solution.sum(axis=0) <= 1)"
   ]
  },
  {
   "cell_type": "code",
   "execution_count": 65,
   "id": "54d5b5ee",
   "metadata": {},
   "outputs": [
    {
     "data": {
      "text/plain": [
       "np.False_"
      ]
     },
     "execution_count": 65,
     "metadata": {},
     "output_type": "execute_result"
    }
   ],
   "source": [
    "# Check if the solution is valid\n",
    "all_knapsacks = np.any(solution, axis=0)\n",
    "np.all(WEIGHTS[all_knapsacks].sum(axis=0) < CONSTRAINTS)"
   ]
  },
  {
   "cell_type": "markdown",
   "id": "8e0e0673",
   "metadata": {},
   "source": [
    "## TEST PROBLEMS"
   ]
  },
  {
   "cell_type": "code",
   "execution_count": 51,
   "id": "5595db9c",
   "metadata": {},
   "outputs": [],
   "source": [
    "# Problem 1:\n",
    "rng = np.random.default_rng(seed=42)\n",
    "NUM_KNAPSACKS = 3\n",
    "NUM_ITEMS = 20\n",
    "NUM_DIMENSIONS = 2\n",
    "VALUES = np.random.randint(0, 100, size=NUM_ITEMS) \n",
    "WEIGHTS = np.random.randint(0, 100, size=(NUM_ITEMS, NUM_DIMENSIONS)) \n",
    "CONSTRAINTS = np.random.randint(0, 100 * NUM_ITEMS // NUM_KNAPSACKS, size= (NUM_KNAPSACKS, NUM_DIMENSIONS)) \n"
   ]
  },
  {
   "cell_type": "code",
   "execution_count": 60,
   "id": "9eed08a0",
   "metadata": {},
   "outputs": [],
   "source": [
    "# Problem 2:\n",
    "rng = np.random.default_rng(seed=42)\n",
    "NUM_KNAPSACKS = 10\n",
    "NUM_ITEMS = 100\n",
    "NUM_DIMENSIONS = 10\n",
    "VALUES = np.random.randint(0, 1000, size=NUM_ITEMS) \n",
    "WEIGHTS = np.random.randint(0, 1000, size=(NUM_ITEMS, NUM_DIMENSIONS)) \n",
    "CONSTRAINTS = np.random.randint(0, 1000 * NUM_ITEMS // NUM_KNAPSACKS, size= (NUM_KNAPSACKS, NUM_DIMENSIONS)) \n"
   ]
  },
  {
   "cell_type": "code",
   "execution_count": 57,
   "id": "117380d6",
   "metadata": {},
   "outputs": [],
   "source": [
    "# Problem 3:\n",
    "rng = np.random.default_rng(seed=42)\n",
    "NUM_KNAPSACKS = 100\n",
    "NUM_ITEMS = 5000\n",
    "NUM_DIMENSIONS = 100\n",
    "VALUES = np.random.randint(0, 1000, size=NUM_ITEMS) \n",
    "WEIGHTS = np.random.randint(0, 1000, size=(NUM_ITEMS, NUM_DIMENSIONS)) \n",
    "CONSTRAINTS = np.random.randint(1000 * 10, 1000 * 2 * NUM_ITEMS // NUM_KNAPSACKS, size= (NUM_KNAPSACKS, NUM_DIMENSIONS)) \n",
    "\n"
   ]
  },
  {
   "cell_type": "code",
   "execution_count": null,
   "id": "2bbe1e02",
   "metadata": {},
   "outputs": [],
   "source": []
  }
 ],
 "metadata": {
  "kernelspec": {
   "display_name": "Python 3",
   "language": "python",
   "name": "python3"
  },
  "language_info": {
   "codemirror_mode": {
    "name": "ipython",
    "version": 3
   },
   "file_extension": ".py",
   "mimetype": "text/x-python",
   "name": "python",
   "nbconvert_exporter": "python",
   "pygments_lexer": "ipython3",
   "version": "3.13.2"
  }
 },
 "nbformat": 4,
 "nbformat_minor": 5
}
