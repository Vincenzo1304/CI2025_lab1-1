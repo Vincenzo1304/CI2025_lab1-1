{
 "cells": [
  {
   "cell_type": "markdown",
   "id": "11fa4375",
   "metadata": {},
   "source": [
    "Copyright **`(c)`** 2025 Giovanni Squillero `<giovanni.squillero@polito.it>`  \n",
    "[`https://github.com/squillero/computational-intelligence`](https://github.com/squillero/computational-intelligence)  \n",
    "Free under certain conditions — see the [`license`](https://github.com/squillero/computational-intelligence/blob/master/LICENSE.md) for details.  "
   ]
  },
  {
   "cell_type": "code",
   "execution_count": 2,
   "id": "c0882a9f",
   "metadata": {},
   "outputs": [],
   "source": [
    "import numpy as np\n",
    "from copy import deepcopy\n",
    "from icecream import ic"
   ]
  },
  {
   "cell_type": "code",
   "execution_count": 111,
   "id": "3adb670e",
   "metadata": {},
   "outputs": [],
   "source": [
    "NUM_KNAPSACKS = 2\n",
    "NUM_ITEMS = 10\n",
    "NUM_DIMENSIONS = 2"
   ]
  },
  {
   "cell_type": "code",
   "execution_count": 114,
   "id": "2db51e99",
   "metadata": {},
   "outputs": [],
   "source": [
    "VALUES = np.random.randint(0, 100, size=NUM_ITEMS) ## valori degli oggetti\n",
    "WEIGHTS = np.random.randint(0, 100, size=(NUM_ITEMS, NUM_DIMENSIONS)) ## pesi degli oggetti (n.b ogni peso ha più dimensioni e i constraint devono essere rispettati in ogni dimensione)\n",
    "CONSTRAINTS = np.random.randint(0, 100 * NUM_ITEMS // NUM_KNAPSACKS, size= (NUM_KNAPSACKS, NUM_DIMENSIONS)) ## tante quante le dimensioni "
   ]
  },
  {
   "cell_type": "code",
   "execution_count": 115,
   "id": "2abb812d",
   "metadata": {},
   "outputs": [
    {
     "data": {
      "text/plain": [
       "array([[235, 442],\n",
       "       [184, 200]], dtype=int32)"
      ]
     },
     "execution_count": 115,
     "metadata": {},
     "output_type": "execute_result"
    }
   ],
   "source": [
    "CONSTRAINTS\n",
    "# ogni zaino è una riga e ogni colonna è il constraint sulla dimensione"
   ]
  },
  {
   "cell_type": "code",
   "execution_count": 5,
   "id": "00c12075",
   "metadata": {},
   "outputs": [],
   "source": [
    "def flip_item(sol):\n",
    "    new_sol = np.copy(sol)\n",
    "    k = np.random.randint(NUM_KNAPSACKS)\n",
    "    i = np.random.randint(NUM_ITEMS)\n",
    "    new_sol[k, i] = not new_sol[k, i]\n",
    "    return new_sol\n",
    "\n",
    "def move_item(sol):\n",
    "    new_sol = np.copy(sol)\n",
    "    i = np.random.randint(NUM_ITEMS)\n",
    "    from_k = np.argmax(sol[:, i]) if np.any(sol[:, i]) else None\n",
    "    to_k = np.random.randint(NUM_KNAPSACKS)\n",
    "\n",
    "    if from_k is not None:\n",
    "        new_sol[from_k, i] = False\n",
    "    new_sol[to_k, i] = True\n",
    "    return new_sol\n",
    "\n",
    "def swap_items(sol):\n",
    "    new_sol = np.copy(sol)\n",
    "    k1, k2 = np.random.choice(NUM_KNAPSACKS, 2, replace=False)\n",
    "    i1, i2 = np.random.randint(NUM_ITEMS, size=2)\n",
    "    new_sol[k1, i1], new_sol[k2, i2] = new_sol[k2, i2], new_sol[k1, i1]\n",
    "    return new_sol\n"
   ]
  },
  {
   "cell_type": "code",
   "execution_count": 6,
   "id": "5288a7a8",
   "metadata": {},
   "outputs": [],
   "source": [
    "def tweak(solution):\n",
    "    new_solution = np.copy(solution)\n",
    "\n",
    "    # scegli casualmente un'operazione di modifica\n",
    "    move_type = np.random.choice([\"flip\", \"move\", \"swap\"], p=[0.5, 0.3, 0.2])\n",
    "    \n",
    "    if move_type == \"flip\":\n",
    "        new_solution = flip_item(new_solution)\n",
    "    elif move_type == \"move\":\n",
    "        new_solution = move_item(new_solution)\n",
    "    elif move_type == \"swap\":\n",
    "        new_solution = swap_items(new_solution)\n",
    "    \n",
    "    return new_solution\n"
   ]
  },
  {
   "cell_type": "code",
   "execution_count": 3,
   "id": "6902192b",
   "metadata": {},
   "outputs": [],
   "source": [
    "def enforce_unique_assignment(sol):\n",
    "    # se un item è in più knapsack, lascialo in uno solo\n",
    "    for i in range(NUM_ITEMS):\n",
    "        assigned = np.where(sol[:, i])[0]\n",
    "        if len(assigned) > 1:\n",
    "            keep = np.random.choice(assigned)\n",
    "            sol[:, i] = False\n",
    "            sol[keep, i] = True\n",
    "    return sol"
   ]
  },
  {
   "cell_type": "code",
   "execution_count": 92,
   "id": "19b85dd0",
   "metadata": {},
   "outputs": [],
   "source": [
    "# fitness function: higher is better\n",
    "def fitness_cost(solution: list[set] ) -> (float, float):\n",
    "    total_value = 0\n",
    "    penalty = 0.0\n",
    "\n",
    "    for b in range(NUM_KNAPSACKS): \n",
    "        knapsack_weight = np.zeros(NUM_DIMENSIONS)\n",
    "        knapsack_value = 0\n",
    "        for i in range(NUM_ITEMS):\n",
    "            if solution[b][i]:\n",
    "                knapsack_value += VALUES[i]\n",
    "                knapsack_weight += WEIGHTS[i]\n",
    "\n",
    "        total_value += knapsack_value\n",
    "\n",
    "        # penalità proporzionale all'eccesso\n",
    "        overweight = knapsack_weight - CONSTRAINTS[b]\n",
    "        penalty += np.sum(np.maximum(0, overweight))\n",
    "\n",
    "    \n",
    "    # il parametro di bilanciamento dinamico lo aumento, inizialmente è più piccolo per permettere \n",
    "    # l'esplorazione poi lo aumento per penalizzare/escludere soluuzioni non valide\n",
    "    alpha =  10\n",
    "    # fitness = valore totale - penalità pesata\n",
    "    fitness = total_value - alpha * penalty\n",
    "\n",
    "    return (fitness, penalty)\n"
   ]
  },
  {
   "cell_type": "code",
   "execution_count": 116,
   "id": "483a054a",
   "metadata": {},
   "outputs": [
    {
     "data": {
      "text/plain": [
       "np.float64(345.0)"
      ]
     },
     "execution_count": 116,
     "metadata": {},
     "output_type": "execute_result"
    }
   ],
   "source": [
    "\n",
    "current_solution = np.zeros((NUM_KNAPSACKS, NUM_ITEMS), dtype=bool)\n",
    "for item in range(NUM_ITEMS):\n",
    "    if np.random.random() < 0.5:  # probabilità di assegnare l'oggetto\n",
    "        knapsack = np.random.randint(NUM_KNAPSACKS)\n",
    "        current_solution[knapsack, item] = True\n",
    "alpha_start = 1\n",
    "alpha_end = 50\n",
    "MAX_STEPS = 500\n",
    "\n",
    "current_fitness, current_penality = fitness_cost(current_solution)\n",
    "\n",
    "\n",
    "\n",
    "\n",
    "for step in range(MAX_STEPS):\n",
    "\n",
    "   # ic(current_solution, current_cost)\n",
    "    new_solution= tweak(current_solution)\n",
    "    new_solution= enforce_unique_assignment(new_solution)\n",
    "    new_fitness, new_penality = fitness_cost(new_solution)\n",
    "    if new_fitness> current_fitness: #cost in realtà è una fitness function\n",
    "        current_solution= new_solution\n",
    "        current_fitness= new_fitness\n",
    "        current_penality= new_penality\n",
    "\n",
    "current_solution\n",
    "current_fitness\n",
    "        "
   ]
  },
  {
   "cell_type": "code",
   "execution_count": 94,
   "id": "f21d5749",
   "metadata": {},
   "outputs": [
    {
     "data": {
      "text/plain": [
       "array([[False, False, False, False, False, False, False, False, False,\n",
       "        False, False, False, False, False, False, False, False, False,\n",
       "        False, False, False, False, False, False, False, False, False,\n",
       "        False, False,  True, False, False, False, False, False, False,\n",
       "        False, False, False, False, False, False, False, False, False,\n",
       "        False, False, False, False, False, False, False, False, False,\n",
       "        False, False, False, False, False, False, False, False, False,\n",
       "        False, False, False, False, False, False, False, False, False,\n",
       "        False, False, False, False, False, False, False, False, False,\n",
       "        False,  True, False, False, False, False, False, False, False,\n",
       "        False, False, False, False, False, False, False, False, False,\n",
       "        False],\n",
       "       [False,  True, False, False, False, False, False, False, False,\n",
       "        False, False, False, False, False, False, False, False, False,\n",
       "        False, False, False, False, False, False, False, False, False,\n",
       "        False, False, False, False, False, False, False, False, False,\n",
       "        False, False, False, False, False, False, False, False, False,\n",
       "        False, False, False, False, False, False, False, False, False,\n",
       "        False, False, False, False, False, False, False, False, False,\n",
       "        False, False, False, False, False, False, False, False, False,\n",
       "        False, False, False, False, False, False, False, False, False,\n",
       "        False, False, False, False, False, False, False, False, False,\n",
       "        False, False, False, False, False, False, False,  True, False,\n",
       "        False],\n",
       "       [False, False, False, False, False, False, False, False,  True,\n",
       "        False, False, False, False, False, False, False, False, False,\n",
       "        False, False, False, False, False, False, False, False, False,\n",
       "        False, False, False, False, False, False, False, False, False,\n",
       "        False, False, False, False, False, False, False, False, False,\n",
       "        False, False, False, False,  True, False, False, False, False,\n",
       "        False,  True, False, False, False, False, False, False, False,\n",
       "        False, False, False, False, False, False, False, False, False,\n",
       "        False, False, False, False, False, False, False, False, False,\n",
       "        False, False, False, False, False, False, False, False, False,\n",
       "        False, False, False, False, False, False, False, False, False,\n",
       "        False],\n",
       "       [False, False, False, False, False, False, False, False, False,\n",
       "        False, False, False, False, False, False, False, False, False,\n",
       "        False, False, False, False, False, False,  True, False, False,\n",
       "        False,  True, False, False, False, False, False, False, False,\n",
       "        False, False, False, False, False, False,  True, False, False,\n",
       "        False, False, False, False, False, False, False, False, False,\n",
       "        False, False, False, False, False, False, False, False, False,\n",
       "        False, False, False, False, False, False, False, False, False,\n",
       "        False, False, False, False, False, False, False, False, False,\n",
       "        False, False, False, False, False, False, False, False, False,\n",
       "        False, False, False, False, False, False, False, False, False,\n",
       "        False],\n",
       "       [False, False, False,  True, False, False, False, False, False,\n",
       "        False,  True, False, False, False, False, False, False, False,\n",
       "        False, False, False, False, False,  True, False, False, False,\n",
       "        False, False, False, False, False, False, False, False, False,\n",
       "        False, False, False, False, False, False, False, False, False,\n",
       "        False, False, False, False, False,  True, False, False, False,\n",
       "        False, False, False,  True, False, False, False, False, False,\n",
       "        False, False, False, False, False, False, False, False, False,\n",
       "        False, False, False, False, False, False, False, False, False,\n",
       "        False, False, False, False, False, False, False,  True, False,\n",
       "        False, False, False, False, False, False, False, False, False,\n",
       "        False],\n",
       "       [False, False, False, False, False, False, False, False, False,\n",
       "        False, False, False,  True,  True, False, False, False, False,\n",
       "        False,  True, False, False, False, False, False, False, False,\n",
       "        False, False, False,  True, False, False, False,  True, False,\n",
       "        False, False, False, False, False, False, False, False, False,\n",
       "        False, False, False, False, False, False, False,  True, False,\n",
       "        False, False, False, False, False, False, False, False, False,\n",
       "        False, False,  True, False, False, False, False,  True, False,\n",
       "        False, False, False, False, False, False, False, False, False,\n",
       "        False, False, False, False,  True, False, False, False, False,\n",
       "        False,  True, False, False, False, False,  True, False, False,\n",
       "        False],\n",
       "       [False, False, False, False, False, False, False, False, False,\n",
       "        False, False, False, False, False, False, False, False, False,\n",
       "        False, False, False, False, False, False, False, False,  True,\n",
       "        False, False, False, False, False, False, False, False, False,\n",
       "        False, False, False, False, False, False, False, False, False,\n",
       "        False, False, False, False, False, False, False, False, False,\n",
       "        False, False, False, False, False, False, False, False, False,\n",
       "        False, False, False, False, False, False, False, False, False,\n",
       "        False, False, False, False,  True, False, False, False, False,\n",
       "        False, False, False, False, False, False, False, False, False,\n",
       "        False, False, False, False, False, False, False, False, False,\n",
       "         True],\n",
       "       [False, False, False, False, False, False, False, False, False,\n",
       "        False, False, False, False, False, False,  True, False, False,\n",
       "        False, False, False, False, False, False, False, False, False,\n",
       "        False, False, False, False, False, False, False, False, False,\n",
       "        False, False, False, False, False, False, False, False, False,\n",
       "        False, False, False, False, False, False, False, False, False,\n",
       "        False, False, False, False, False, False, False, False, False,\n",
       "        False, False, False, False, False, False, False, False, False,\n",
       "        False, False, False, False, False, False, False, False, False,\n",
       "        False, False, False, False, False, False, False, False, False,\n",
       "        False, False,  True, False, False, False, False, False, False,\n",
       "        False],\n",
       "       [False, False, False, False, False, False, False, False, False,\n",
       "        False, False, False, False, False, False, False, False, False,\n",
       "        False, False, False, False, False, False, False, False, False,\n",
       "        False, False, False, False, False, False, False, False, False,\n",
       "        False, False, False, False, False, False, False, False, False,\n",
       "        False, False, False, False, False, False, False, False, False,\n",
       "        False, False, False, False, False, False, False,  True, False,\n",
       "        False, False, False, False, False, False, False, False, False,\n",
       "        False, False, False, False, False, False, False, False, False,\n",
       "        False, False, False, False, False, False, False, False, False,\n",
       "         True, False, False, False, False, False, False, False, False,\n",
       "        False],\n",
       "       [ True, False, False, False, False, False, False, False, False,\n",
       "        False, False, False, False, False,  True, False, False, False,\n",
       "        False, False, False, False, False, False, False, False, False,\n",
       "        False, False, False, False, False, False, False, False, False,\n",
       "        False, False, False, False, False, False, False, False, False,\n",
       "        False, False, False, False, False, False, False, False, False,\n",
       "        False, False, False, False, False, False, False, False, False,\n",
       "        False,  True, False, False, False,  True, False, False, False,\n",
       "        False, False, False, False, False, False, False, False, False,\n",
       "        False, False, False, False, False, False, False, False, False,\n",
       "        False, False, False, False, False, False, False, False, False,\n",
       "        False]])"
      ]
     },
     "execution_count": 94,
     "metadata": {},
     "output_type": "execute_result"
    }
   ],
   "source": [
    "solution= current_solution\n",
    "solution"
   ]
  },
  {
   "cell_type": "code",
   "execution_count": 121,
   "id": "7de9a3fb",
   "metadata": {},
   "outputs": [
    {
     "data": {
      "text/plain": [
       "np.False_"
      ]
     },
     "execution_count": 121,
     "metadata": {},
     "output_type": "execute_result"
    }
   ],
   "source": [
    "# Check that the same object does not appear in multiple knapsacks\n",
    "np.all(solution.sum(axis=0) <= 1)"
   ]
  },
  {
   "cell_type": "code",
   "execution_count": 96,
   "id": "54d5b5ee",
   "metadata": {},
   "outputs": [
    {
     "data": {
      "text/plain": [
       "False"
      ]
     },
     "execution_count": 96,
     "metadata": {},
     "output_type": "execute_result"
    }
   ],
   "source": [
    "# Check if the solution is valid\n",
    "#all_knapsacks = np.any(solution, axis=0)\n",
    "#np.all(WEIGHTS[all_knapsacks].sum(axis=0) < CONSTRAINTS)\n",
    "\n",
    "valid_per_bag = []\n",
    "for b in range(NUM_KNAPSACKS):\n",
    "    # seleziona gli item presenti nello zaino b\n",
    "    items_in_b = np.where(solution[b])[0]            # indici degli item presenti\n",
    "    total_weight = WEIGHTS[items_in_b].sum(axis=0)   # somma per dimensione\n",
    "    valid_per_bag.append(np.all(total_weight <= CONSTRAINTS[b]))\n",
    "\n",
    "overall_valid = all(valid_per_bag)\n",
    "overall_valid"
   ]
  },
  {
   "cell_type": "markdown",
   "id": "8e0e0673",
   "metadata": {},
   "source": [
    "## TEST PROBLEMS"
   ]
  },
  {
   "cell_type": "code",
   "execution_count": 43,
   "id": "5595db9c",
   "metadata": {},
   "outputs": [
    {
     "data": {
      "text/plain": [
       "array([[168, 185],\n",
       "       [196, 553],\n",
       "       [ 38, 428]], dtype=int32)"
      ]
     },
     "execution_count": 43,
     "metadata": {},
     "output_type": "execute_result"
    }
   ],
   "source": [
    "# Problem 1:\n",
    "rng = np.random.default_rng(seed=42)\n",
    "NUM_KNAPSACKS = 3\n",
    "NUM_ITEMS = 20\n",
    "NUM_DIMENSIONS = 2\n",
    "VALUES = np.random.randint(0, 100, size=NUM_ITEMS) \n",
    "WEIGHTS = np.random.randint(0, 100, size=(NUM_ITEMS, NUM_DIMENSIONS)) \n",
    "CONSTRAINTS = np.random.randint(0, 100 * NUM_ITEMS // NUM_KNAPSACKS, size= (NUM_KNAPSACKS, NUM_DIMENSIONS)) \n",
    "CONSTRAINTS"
   ]
  },
  {
   "cell_type": "code",
   "execution_count": 15,
   "id": "9eed08a0",
   "metadata": {},
   "outputs": [
    {
     "data": {
      "text/plain": [
       "array([[2627, 7071, 7260, 1477, 1437, 1552, 1557, 5519, 4268, 6845],\n",
       "       [2283, 2697, 6398, 6820,  810, 8570, 7727, 5063, 3517, 5747],\n",
       "       [9130,  568, 9155, 3689,  631, 1136,  663, 6094, 8960, 9278],\n",
       "       [2541, 2772, 9810, 2564, 8566, 2830, 4443, 5588, 1213, 8433],\n",
       "       [7828, 1639, 6619, 8434, 4514, 4476, 4785, 1655, 5846, 8557],\n",
       "       [3561, 8030, 5553, 7149,  844, 2556, 5460, 6295, 9945, 8043],\n",
       "       [9545,  413, 1059, 8712, 9278, 4840, 2541, 6571, 9832, 6896],\n",
       "       [3717, 6932,   59, 2288, 1264, 7220, 2869, 7139, 4680, 4419],\n",
       "       [9247, 3582, 1999, 4638, 4140, 2685, 3392, 9691, 9536,  831],\n",
       "       [2843, 9815, 3902, 3731, 7797, 8896, 9080, 8919,  337, 7041]],\n",
       "      dtype=int32)"
      ]
     },
     "execution_count": 15,
     "metadata": {},
     "output_type": "execute_result"
    }
   ],
   "source": [
    "# Problem 2:\n",
    "rng = np.random.default_rng(seed=42)\n",
    "NUM_KNAPSACKS = 10\n",
    "NUM_ITEMS = 100\n",
    "NUM_DIMENSIONS = 10\n",
    "VALUES = np.random.randint(0, 1000, size=NUM_ITEMS) \n",
    "WEIGHTS = np.random.randint(0, 1000, size=(NUM_ITEMS, NUM_DIMENSIONS)) \n",
    "CONSTRAINTS = np.random.randint(0, 1000 * NUM_ITEMS // NUM_KNAPSACKS, size= (NUM_KNAPSACKS, NUM_DIMENSIONS)) \n",
    "CONSTRAINTS"
   ]
  },
  {
   "cell_type": "code",
   "execution_count": 32,
   "id": "117380d6",
   "metadata": {},
   "outputs": [
    {
     "data": {
      "text/plain": [
       "array([[30952, 61599, 63873, ..., 40668, 56940, 36914],\n",
       "       [90162, 42279, 90348, ..., 19966, 80524, 20075],\n",
       "       [89828, 67367, 24693, ..., 18613, 17203, 71643],\n",
       "       ...,\n",
       "       [48577, 29359, 83956, ..., 52110, 18853, 52126],\n",
       "       [25488, 46553, 88217, ..., 43390, 39936, 62540],\n",
       "       [17638, 31657, 87646, ..., 27780, 86129, 53404]],\n",
       "      shape=(100, 100), dtype=int32)"
      ]
     },
     "execution_count": 32,
     "metadata": {},
     "output_type": "execute_result"
    }
   ],
   "source": [
    "# Problem 3:\n",
    "rng = np.random.default_rng(seed=42)\n",
    "NUM_KNAPSACKS = 100\n",
    "NUM_ITEMS = 5000\n",
    "NUM_DIMENSIONS = 100\n",
    "VALUES = np.random.randint(0, 1000, size=NUM_ITEMS) \n",
    "WEIGHTS = np.random.randint(0, 1000, size=(NUM_ITEMS, NUM_DIMENSIONS)) \n",
    "CONSTRAINTS = np.random.randint(1000 * 10, 1000 * 2 * NUM_ITEMS // NUM_KNAPSACKS, size= (NUM_KNAPSACKS, NUM_DIMENSIONS)) \n",
    "CONSTRAINTS\n"
   ]
  },
  {
   "cell_type": "markdown",
   "id": "73ff7771",
   "metadata": {},
   "source": [
    "OLD SOLUTION "
   ]
  },
  {
   "cell_type": "code",
   "execution_count": null,
   "id": "2bbe1e02",
   "metadata": {},
   "outputs": [
    {
     "name": "stderr",
     "output_type": "stream",
     "text": [
      "ic| steps: 0\n",
      "    current_cost: np.int64(339)\n",
      "    current_fitness: np.int64(-2979)\n",
      "    current_valid: False\n",
      "ic| steps: 1\n",
      "    current_cost: np.int64(247)\n",
      "    current_fitness: np.int64(-2158)\n",
      "    current_valid: False\n",
      "ic| steps: 2\n",
      "    current_cost: np.int64(116)\n",
      "    current_fitness: np.int64(-965)\n",
      "    current_valid: False\n",
      "ic| steps: 3\n",
      "    current_cost: np.int64(54)\n",
      "    current_fitness: np.int64(-403)\n",
      "    current_valid: False\n",
      "ic| steps: 4\n",
      "    current_cost: np.int64(0)\n",
      "    current_fitness: np.int64(109)\n",
      "    current_valid: True\n"
     ]
    },
    {
     "ename": "IndexError",
     "evalue": "boolean index did not match indexed array along axis 1; size of axis is 2 but size of corresponding boolean axis is 20",
     "output_type": "error",
     "traceback": [
      "\u001b[31m---------------------------------------------------------------------------\u001b[39m",
      "\u001b[31mIndexError\u001b[39m                                Traceback (most recent call last)",
      "\u001b[36mCell\u001b[39m\u001b[36m \u001b[39m\u001b[32mIn[53]\u001b[39m\u001b[32m, line 96\u001b[39m\n\u001b[32m     92\u001b[39m ic(steps, current_cost, current_fitness, current_valid)\n\u001b[32m     93\u001b[39m \u001b[38;5;28;01mif\u001b[39;00m current_valid:\n\u001b[32m     94\u001b[39m     \u001b[38;5;66;03m## soluzione valida\u001b[39;00m\n\u001b[32m---> \u001b[39m\u001b[32m96\u001b[39m     new_solution = \u001b[43mtweak_valida\u001b[49m\u001b[43m(\u001b[49m\u001b[43mcurrent_solution\u001b[49m\u001b[43m)\u001b[49m\n\u001b[32m     97\u001b[39m     new_solution = enforce_unique_assignment(new_solution)\n\u001b[32m     98\u001b[39m     (new_fitness, new_cost, new_valid) = cost(new_solution)\n",
      "\u001b[36mCell\u001b[39m\u001b[36m \u001b[39m\u001b[32mIn[53]\u001b[39m\u001b[32m, line 30\u001b[39m, in \u001b[36mtweak_valida\u001b[39m\u001b[34m(knapsack)\u001b[39m\n\u001b[32m     28\u001b[39m remaining_capacity = np.maximum(\u001b[32m0\u001b[39m, CONSTRAINTS - weights_per_bag)\n\u001b[32m     29\u001b[39m \u001b[38;5;66;03m# Scegli quello con margine totale più alto\u001b[39;00m\n\u001b[32m---> \u001b[39m\u001b[32m30\u001b[39m b = [np.argmax(np.sum(\u001b[43mremaining_capacity\u001b[49m\u001b[43m[\u001b[49m\u001b[43mnew_bags\u001b[49m\u001b[43m]\u001b[49m, axis=\u001b[32m1\u001b[39m))]\n\u001b[32m     32\u001b[39m \u001b[38;5;66;03m# Margine residuo\u001b[39;00m\n\u001b[32m     33\u001b[39m current_weight = weights_per_bag[b]\n",
      "\u001b[31mIndexError\u001b[39m: boolean index did not match indexed array along axis 1; size of axis is 2 but size of corresponding boolean axis is 20"
     ]
    }
   ],
   "source": [
    "#### OLD SOLUTION# --- IGNORE ---\n",
    "\n",
    "def tweak_non_valida(knapsacs:  list[set] ) -> list[set]:\n",
    "    ## conviene togliere un oggetto da uno zaino che è in sovrappeso\n",
    "    new_bags = deepcopy(knapsacs)\n",
    "    # trova zaini in sovrappeso\n",
    "    weights_per_bag = new_bags.astype(int).dot(WEIGHTS)\n",
    "    overweight_mask = weights_per_bag > CONSTRAINTS\n",
    "    overweight_bags = np.where(np.any(overweight_mask, axis=1))[0]\n",
    "\n",
    "    for b in overweight_bags:\n",
    "        ## IDEA: al posto di togliere uno zaino casuale possiamo togliere quello con la componente più alta che sfora\n",
    "        ## excess = np.maximum(0, weights_per_bag[b] - CONSTRAINTS[b])\n",
    "        items_in_bag = np.where(new_bags[b])[0]\n",
    "        \n",
    "        if len(items_in_bag) > 0:\n",
    "            item_to_remove = np.random.choice(items_in_bag)\n",
    "            new_bags[b][item_to_remove] = False\n",
    "            \n",
    "    return new_bags\n",
    "\n",
    "def tweak_valida(knapsack: list[set]) -> list[set]:\n",
    "    ## conviene aggiungere un oggetto a uno zaino che non è in sovrappeso\n",
    "    new_bags = deepcopy(knapsack)\n",
    "    weights_per_bag = new_bags.astype(int).dot(WEIGHTS)\n",
    "\n",
    "    # Calcola spazio residuo per ogni zaino valido\n",
    "    remaining_capacity = np.maximum(0, CONSTRAINTS - weights_per_bag)\n",
    "    # Scegli quello con margine totale più alto\n",
    "   # remaining_capacity: (NUM_KNAPSACKS, NUM_DIMENSIONS)\n",
    "    b = np.argmax(np.sum(remaining_capacity, axis=1))\n",
    "\n",
    "\n",
    "    # Margine residuo\n",
    "    current_weight = weights_per_bag[b]\n",
    "    margin = CONSTRAINTS[b] - current_weight\n",
    "\n",
    "    # Oggetti già presenti e mancanti\n",
    "    items_in_bag = np.where(new_bags[b])[0]\n",
    "    items_not_in_bag = np.where(~new_bags[b])[0]\n",
    "\n",
    "     # Trova oggetti che entrano nei vincoli\n",
    "    feasible_items = [i for i in items_not_in_bag if np.all(WEIGHTS[i] <= margin)]\n",
    "    if len(feasible_items) > 0:\n",
    "        item_to_add = np.random.choice(feasible_items)\n",
    "        new_bags[b][item_to_add] = True\n",
    "        return new_bags\n",
    "    else:\n",
    "        ## se nessun oggetto entra provo a scambiare\n",
    "        i_remove = np.random.choice(items_in_bag)\n",
    "        i_add = np.random.choice(items_not_in_bag)\n",
    "        # new_weight = current_weight - WEIGHTS[i_remove] + WEIGHTS[i_add]\n",
    "        new_bags[b][i_remove] = False\n",
    "        new_bags[b][i_add] = True\n",
    "    return new_bags\n",
    "\n",
    "#OLD SOLUTION\n",
    "## il costo di una soluzione è dato dalla somma dei valori degli oggetti meno la somma dei sovrappesi\n",
    "# se la soluzione è valida il costo è negativo\n",
    "def cost(solution: list[set]) -> (float, float, bool):\n",
    "\n",
    "    weights_per_bag = solution.astype(int).dot(WEIGHTS)  \n",
    "    total_overweight = weights_per_bag - CONSTRAINTS\n",
    "    total_value = np.sum(solution.astype(int).dot(VALUES))\n",
    "    # validità: nessuna componente > 0\n",
    "    valid = not np.any(total_overweight > 0)\n",
    "\n",
    "    # penalità: somma delle eccedenze\n",
    "    penalty = np.sum(np.maximum(0, total_overweight))\n",
    "    # fitness: valore - penalità pesata\n",
    "    alpha = 10\n",
    "    fitness = total_value - alpha * penalty\n",
    "\n",
    "    return fitness, penalty, valid\n",
    "\n",
    "\n",
    "\n",
    "current_solution = np.zeros((NUM_KNAPSACKS, NUM_ITEMS), dtype=bool)\n",
    "for item in range(NUM_ITEMS):\n",
    "    if np.random.random() < 0.5:  # probabilità di assegnare l'oggetto\n",
    "        knapsack = np.random.randint(NUM_KNAPSACKS)\n",
    "        current_solution[knapsack, item] = True\n",
    "\n",
    "(current_fitness, current_cost, current_valid) = cost(current_solution)\n",
    "\n",
    "\n",
    "MAX_STEPS = 1000\n",
    "\n",
    "\n",
    "for steps in range(MAX_STEPS):\n",
    "    # left_items= np.where(~np.any(solution, axis=0))[0]  # item non ancora usati\n",
    "    # if len(left_items==0):\n",
    "    #     break\n",
    "    ic(steps, current_cost, current_fitness, current_valid)\n",
    "    if current_valid:\n",
    "        ## soluzione valida\n",
    "        \n",
    "        new_solution = tweak_valida(current_solution)\n",
    "        new_solution = enforce_unique_assignment(new_solution)\n",
    "        (new_fitness, new_cost, new_valid) = cost(new_solution)\n",
    "        if new_valid:\n",
    "            if new_fitness>= current_fitness: \n",
    "                ## la nuova soluzione è valida e il costo si avvicina a zero sempre di più (costo ideale)\n",
    "                current_cost= new_cost\n",
    "                current_fitness= new_fitness\n",
    "                current_solution = new_solution\n",
    "                current_valid= new_valid\n",
    "                continue\n",
    "\n",
    "    else: \n",
    "        ## soluzione non valida\n",
    "        new_solution = tweak_non_valida(current_solution)\n",
    "        new_solution = enforce_unique_assignment(new_solution)\n",
    "        (new_fitness, new_cost, new_valid) = cost(new_solution)\n",
    "\n",
    "        if not new_valid: \n",
    "            \n",
    "        ## la nuova soluzione non è valida anche essa \n",
    "            if new_cost < current_cost or (new_cost== current_cost and new_fitness>=current_fitness): \n",
    "                # la nuova soluzione si avvicina a essere valida \n",
    "                current_cost = new_cost\n",
    "                current_solution = new_solution\n",
    "                current_fitness= new_fitness\n",
    "                current_valid= new_valid\n",
    "                continue\n",
    "            else:\n",
    "                continue\n",
    "        else:\n",
    "            ## la nuova soluzione è valida \n",
    "            current_cost = new_cost\n",
    "            current_solution = new_solution\n",
    "            current_fitness= new_fitness\n",
    "            current_valid= new_valid\n",
    "            continue\n",
    "\n",
    "    \n",
    "\n",
    "print(current_cost, current_fitness, current_valid)\n",
    "\n"
   ]
  },
  {
   "cell_type": "code",
   "execution_count": 45,
   "id": "370ee598",
   "metadata": {},
   "outputs": [
    {
     "data": {
      "text/plain": [
       "array([[False,  True, False,  True, False, False, False,  True, False,\n",
       "        False, False, False, False, False, False, False, False, False,\n",
       "         True, False],\n",
       "       [False, False,  True, False, False,  True, False, False, False,\n",
       "        False, False,  True, False,  True, False,  True, False, False,\n",
       "        False,  True],\n",
       "       [False, False, False, False, False, False, False, False, False,\n",
       "        False, False, False, False, False,  True, False, False,  True,\n",
       "        False, False]])"
      ]
     },
     "execution_count": 45,
     "metadata": {},
     "output_type": "execute_result"
    }
   ],
   "source": [
    "solution=current_solution\n",
    "solution"
   ]
  },
  {
   "cell_type": "code",
   "execution_count": 46,
   "id": "42e160aa",
   "metadata": {},
   "outputs": [
    {
     "data": {
      "text/plain": [
       "True"
      ]
     },
     "execution_count": 46,
     "metadata": {},
     "output_type": "execute_result"
    }
   ],
   "source": [
    "# Check if the solution is valid\n",
    "valid_per_bag = []\n",
    "for b in range(NUM_KNAPSACKS):\n",
    "    # seleziona gli item presenti nello zaino b\n",
    "    items_in_b = np.where(solution[b])[0]            # indici degli item presenti\n",
    "    total_weight = WEIGHTS[items_in_b].sum(axis=0)   # somma per dimensione\n",
    "    valid_per_bag.append(np.all(total_weight <= CONSTRAINTS[b]))\n",
    "\n",
    "overall_valid = all(valid_per_bag)\n",
    "overall_valid"
   ]
  },
  {
   "cell_type": "code",
   "execution_count": 47,
   "id": "912e1477",
   "metadata": {},
   "outputs": [
    {
     "data": {
      "text/plain": [
       "np.True_"
      ]
     },
     "execution_count": 47,
     "metadata": {},
     "output_type": "execute_result"
    }
   ],
   "source": [
    "# Check that the same object does not appear in multiple knapsacks\n",
    "np.all(solution.sum(axis=0) <= 1)"
   ]
  },
  {
   "cell_type": "code",
   "execution_count": 48,
   "id": "5356ef26",
   "metadata": {},
   "outputs": [
    {
     "data": {
      "text/plain": [
       "(array([[89.28571429, 81.08108108],\n",
       "        [97.44897959, 75.22603978],\n",
       "        [92.10526316, 28.03738318]]),\n",
       " np.int32(499))"
      ]
     },
     "execution_count": 48,
     "metadata": {},
     "output_type": "execute_result"
    }
   ],
   "source": [
    "def solution_evaluation(solution):\n",
    "    total_value = 0\n",
    "    percentage_weight_over_constraint = np.zeros((NUM_KNAPSACKS, NUM_DIMENSIONS))\n",
    "\n",
    "    for b in range(NUM_KNAPSACKS): \n",
    "        knapsack_weight = np.zeros(NUM_DIMENSIONS)\n",
    "        knapsack_value = 0\n",
    "        for i in range(NUM_ITEMS):\n",
    "            if solution[b][i]:\n",
    "                knapsack_value += VALUES[i]\n",
    "                knapsack_weight += WEIGHTS[i]\n",
    "        total_value += knapsack_value\n",
    "        percentage_weight_over_constraint[b] = knapsack_weight*100/CONSTRAINTS[b]\n",
    "\n",
    "\n",
    "    return percentage_weight_over_constraint, total_value\n",
    "\n",
    "solution_evaluation(solution)"
   ]
  }
 ],
 "metadata": {
  "kernelspec": {
   "display_name": "Python 3",
   "language": "python",
   "name": "python3"
  },
  "language_info": {
   "codemirror_mode": {
    "name": "ipython",
    "version": 3
   },
   "file_extension": ".py",
   "mimetype": "text/x-python",
   "name": "python",
   "nbconvert_exporter": "python",
   "pygments_lexer": "ipython3",
   "version": "3.13.2"
  }
 },
 "nbformat": 4,
 "nbformat_minor": 5
}
