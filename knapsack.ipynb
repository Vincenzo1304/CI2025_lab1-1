{
 "cells": [
  {
   "cell_type": "markdown",
   "id": "11fa4375",
   "metadata": {},
   "source": [
    "Copyright **`(c)`** 2025 Giovanni Squillero `<giovanni.squillero@polito.it>`  \n",
    "[`https://github.com/squillero/computational-intelligence`](https://github.com/squillero/computational-intelligence)  \n",
    "Free under certain conditions — see the [`license`](https://github.com/squillero/computational-intelligence/blob/master/LICENSE.md) for details.  "
   ]
  },
  {
   "cell_type": "code",
   "execution_count": 1,
   "id": "c0882a9f",
   "metadata": {},
   "outputs": [],
   "source": [
    "import numpy as np\n",
    "from copy import deepcopy\n",
    "from icecream import ic"
   ]
  },
  {
   "cell_type": "code",
   "execution_count": 2,
   "id": "3adb670e",
   "metadata": {},
   "outputs": [],
   "source": [
    "NUM_KNAPSACKS = 2\n",
    "NUM_ITEMS = 10\n",
    "NUM_DIMENSIONS = 2"
   ]
  },
  {
   "cell_type": "code",
   "execution_count": 3,
   "id": "2db51e99",
   "metadata": {},
   "outputs": [],
   "source": [
    "VALUES = np.random.randint(0, 100, size=NUM_ITEMS) ## valori degli oggetti\n",
    "WEIGHTS = np.random.randint(0, 100, size=(NUM_ITEMS, NUM_DIMENSIONS)) ## pesi degli oggetti (n.b ogni peso ha più dimensioni e i constraint devono essere rispettati in ogni dimensione)\n",
    "CONSTRAINTS = np.random.randint(0, 100 * NUM_ITEMS // NUM_KNAPSACKS, size= (NUM_KNAPSACKS, NUM_DIMENSIONS)) ## tante quante le dimensioni "
   ]
  },
  {
   "cell_type": "code",
   "execution_count": 4,
   "id": "2abb812d",
   "metadata": {},
   "outputs": [
    {
     "data": {
      "text/plain": [
       "array([[161, 445],\n",
       "       [ 10, 389]], dtype=int32)"
      ]
     },
     "execution_count": 4,
     "metadata": {},
     "output_type": "execute_result"
    }
   ],
   "source": [
    "CONSTRAINTS\n",
    "# ogni zaino è una riga e ogni colonna è il constraint sulla dimensione"
   ]
  },
  {
   "cell_type": "code",
   "execution_count": 5,
   "id": "00c12075",
   "metadata": {},
   "outputs": [],
   "source": [
    "def flip_item(sol):\n",
    "    new_sol = np.copy(sol)\n",
    "    k = np.random.randint(NUM_KNAPSACKS)\n",
    "    i = np.random.randint(NUM_ITEMS)\n",
    "    new_sol[k, i] = not new_sol[k, i]\n",
    "    return new_sol\n",
    "\n",
    "def move_item(sol):\n",
    "    new_sol = np.copy(sol)\n",
    "    i = np.random.randint(NUM_ITEMS)\n",
    "    from_k = np.argmax(sol[:, i]) if np.any(sol[:, i]) else None\n",
    "    to_k = np.random.randint(NUM_KNAPSACKS)\n",
    "\n",
    "    if from_k is not None:\n",
    "        new_sol[from_k, i] = False\n",
    "    new_sol[to_k, i] = True\n",
    "    return new_sol\n",
    "\n",
    "def swap_items(sol):\n",
    "    new_sol = np.copy(sol)\n",
    "    k1, k2 = np.random.choice(NUM_KNAPSACKS, 2, replace=False)\n",
    "    i1, i2 = np.random.randint(NUM_ITEMS, size=2)\n",
    "    new_sol[k1, i1], new_sol[k2, i2] = new_sol[k2, i2], new_sol[k1, i1]\n",
    "    return new_sol\n"
   ]
  },
  {
   "cell_type": "code",
   "execution_count": 6,
   "id": "5288a7a8",
   "metadata": {},
   "outputs": [],
   "source": [
    "def tweak(solution):\n",
    "    new_solution = np.copy(solution)\n",
    "\n",
    "    # scegli casualmente un'operazione di modifica\n",
    "    move_type = np.random.choice([\"flip\", \"move\", \"swap\"], p=[0.5, 0.3, 0.2])\n",
    "    \n",
    "    if move_type == \"flip\":\n",
    "        new_solution = flip_item(new_solution)\n",
    "    elif move_type == \"move\":\n",
    "        new_solution = move_item(new_solution)\n",
    "    elif move_type == \"swap\":\n",
    "        new_solution = swap_items(new_solution)\n",
    "    \n",
    "    return new_solution\n"
   ]
  },
  {
   "cell_type": "code",
   "execution_count": 7,
   "id": "6902192b",
   "metadata": {},
   "outputs": [],
   "source": [
    "def enforce_unique_assignment(sol):\n",
    "    # se un item è in più knapsack, lascialo in uno solo\n",
    "    for i in range(NUM_ITEMS):\n",
    "        assigned = np.where(sol[:, i])[0]\n",
    "        if len(assigned) > 1:\n",
    "            keep = np.random.choice(assigned)\n",
    "            sol[:, i] = False\n",
    "            sol[keep, i] = True\n",
    "    return sol"
   ]
  },
  {
   "cell_type": "code",
   "execution_count": 25,
   "id": "19b85dd0",
   "metadata": {},
   "outputs": [],
   "source": [
    "# fitness function: higher is better\n",
    "def fitness_cost(solution: list[set], alpha_start, alpha_end,step, max_steps ) -> float:\n",
    "    total_value = 0\n",
    "    penalty = 0.0\n",
    "\n",
    "    for b in range(NUM_KNAPSACKS): \n",
    "        knapsack_weight = np.zeros(NUM_DIMENSIONS)\n",
    "        knapsack_value = 0\n",
    "        for i in range(NUM_ITEMS):\n",
    "            if solution[b][i]:\n",
    "                knapsack_value += VALUES[i]\n",
    "                knapsack_weight += WEIGHTS[i]\n",
    "\n",
    "        total_value += knapsack_value\n",
    "\n",
    "        # penalità proporzionale all'eccesso\n",
    "        overweight = knapsack_weight - CONSTRAINTS[b]\n",
    "        penalty += np.sum(np.maximum(0, overweight))\n",
    "\n",
    "    \n",
    "    # il parametro di bilanciamento dinamico lo aumento, inizialmente è più piccolo per permettere \n",
    "    # l'esplorazione poi lo aumento per penalizzare/escludere soluuzioni non valide\n",
    "    alpha =  alpha_start + (alpha_end - alpha_start) * (step / max_steps)\n",
    "    # fitness = valore totale - penalità pesata\n",
    "    fitness = total_value - alpha * penalty\n",
    "\n",
    "    return fitness\n"
   ]
  },
  {
   "cell_type": "code",
   "execution_count": 48,
   "id": "483a054a",
   "metadata": {},
   "outputs": [
    {
     "data": {
      "text/plain": [
       "(np.float64(604.0), np.int32(754))"
      ]
     },
     "execution_count": 48,
     "metadata": {},
     "output_type": "execute_result"
    }
   ],
   "source": [
    "\n",
    "current_solution = np.zeros((NUM_KNAPSACKS, NUM_ITEMS), dtype=bool)\n",
    "for item in range(NUM_ITEMS):\n",
    "    if np.random.random() < 0.5:  # probabilità di assegnare l'oggetto\n",
    "        knapsack = np.random.randint(NUM_KNAPSACKS)\n",
    "        current_solution[knapsack, item] = True\n",
    "alpha_start = 1\n",
    "alpha_end = 50\n",
    "MAX_STEPS = 500\n",
    "\n",
    "current_cost = fitness_cost(current_solution, alpha_start, alpha_end, 0, 500)\n",
    "\n",
    "\n",
    "\n",
    "\n",
    "for step in range(MAX_STEPS):\n",
    "    if current_cost == 0:\n",
    "        break\n",
    "   # ic(current_solution, current_cost)\n",
    "    new_solution= tweak(current_solution)\n",
    "    new_solution= enforce_unique_assignment(new_solution)\n",
    "    new_cost= fitness_cost(new_solution, alpha_start, alpha_end, step, 500)\n",
    "    if new_cost > current_cost: #cost in realtà è una fitness function\n",
    "        current_solution= new_solution\n",
    "        current_cost= new_cost\n",
    "\n",
    "cost(current_solution)\n",
    "        "
   ]
  },
  {
   "cell_type": "code",
   "execution_count": 42,
   "id": "f21d5749",
   "metadata": {},
   "outputs": [
    {
     "data": {
      "text/plain": [
       "array([[False, False, False, False, False, False, False, False, False,\n",
       "        False, False, False, False, False, False, False,  True, False,\n",
       "        False, False],\n",
       "       [False, False, False,  True,  True, False,  True, False, False,\n",
       "         True,  True, False,  True, False, False, False, False, False,\n",
       "        False, False],\n",
       "       [False, False, False, False, False, False, False,  True, False,\n",
       "        False, False, False, False, False, False, False, False, False,\n",
       "        False, False]])"
      ]
     },
     "execution_count": 42,
     "metadata": {},
     "output_type": "execute_result"
    }
   ],
   "source": [
    "solution= current_solution\n",
    "solution"
   ]
  },
  {
   "cell_type": "code",
   "execution_count": 46,
   "id": "7de9a3fb",
   "metadata": {},
   "outputs": [
    {
     "data": {
      "text/plain": [
       "np.True_"
      ]
     },
     "execution_count": 46,
     "metadata": {},
     "output_type": "execute_result"
    }
   ],
   "source": [
    "# Check that the same object does not appear in multiple knapsacks\n",
    "np.all(solution.sum(axis=0) <= 1)"
   ]
  },
  {
   "cell_type": "code",
   "execution_count": 47,
   "id": "54d5b5ee",
   "metadata": {},
   "outputs": [
    {
     "data": {
      "text/plain": [
       "np.False_"
      ]
     },
     "execution_count": 47,
     "metadata": {},
     "output_type": "execute_result"
    }
   ],
   "source": [
    "# Check if the solution is valid\n",
    "all_knapsacks = np.any(solution, axis=0)\n",
    "np.all(WEIGHTS[all_knapsacks].sum(axis=0) < CONSTRAINTS)"
   ]
  },
  {
   "cell_type": "markdown",
   "id": "8e0e0673",
   "metadata": {},
   "source": [
    "## TEST PROBLEMS"
   ]
  },
  {
   "cell_type": "code",
   "execution_count": 40,
   "id": "5595db9c",
   "metadata": {},
   "outputs": [
    {
     "data": {
      "text/plain": [
       "array([[535, 102],\n",
       "       [ 73,  26],\n",
       "       [339, 135]], dtype=int32)"
      ]
     },
     "execution_count": 40,
     "metadata": {},
     "output_type": "execute_result"
    }
   ],
   "source": [
    "# Problem 1:\n",
    "rng = np.random.default_rng(seed=42)\n",
    "NUM_KNAPSACKS = 3\n",
    "NUM_ITEMS = 20\n",
    "NUM_DIMENSIONS = 2\n",
    "VALUES = np.random.randint(0, 100, size=NUM_ITEMS) \n",
    "WEIGHTS = np.random.randint(0, 100, size=(NUM_ITEMS, NUM_DIMENSIONS)) \n",
    "CONSTRAINTS = np.random.randint(0, 100 * NUM_ITEMS // NUM_KNAPSACKS, size= (NUM_KNAPSACKS, NUM_DIMENSIONS)) \n",
    "CONSTRAINTS"
   ]
  },
  {
   "cell_type": "code",
   "execution_count": 40,
   "id": "9eed08a0",
   "metadata": {},
   "outputs": [],
   "source": [
    "# Problem 2:\n",
    "rng = np.random.default_rng(seed=42)\n",
    "NUM_KNAPSACKS = 10\n",
    "NUM_ITEMS = 100\n",
    "NUM_DIMENSIONS = 10\n",
    "VALUES = np.random.randint(0, 1000, size=NUM_ITEMS) \n",
    "WEIGHTS = np.random.randint(0, 1000, size=(NUM_ITEMS, NUM_DIMENSIONS)) \n",
    "CONSTRAINTS = np.random.randint(0, 1000 * NUM_ITEMS // NUM_KNAPSACKS, size= (NUM_KNAPSACKS, NUM_DIMENSIONS)) \n"
   ]
  },
  {
   "cell_type": "code",
   "execution_count": null,
   "id": "117380d6",
   "metadata": {},
   "outputs": [],
   "source": [
    "# Problem 3:\n",
    "rng = np.random.default_rng(seed=42)\n",
    "NUM_KNAPSACKS = 100\n",
    "NUM_ITEMS = 5000\n",
    "NUM_DIMENSIONS = 100\n",
    "VALUES = np.random.randint(0, 1000, size=NUM_ITEMS) \n",
    "WEIGHTS = np.random.randint(0, 1000, size=(NUM_ITEMS, NUM_DIMENSIONS)) \n",
    "CONSTRAINTS = np.random.randint(1000 * 10, 1000 * 2 * NUM_ITEMS // NUM_KNAPSACKS, size= (NUM_KNAPSACKS, NUM_DIMENSIONS)) \n",
    "\n"
   ]
  },
  {
   "cell_type": "markdown",
   "id": "73ff7771",
   "metadata": {},
   "source": [
    "OLD SOLUTION "
   ]
  },
  {
   "cell_type": "code",
   "execution_count": null,
   "id": "2bbe1e02",
   "metadata": {},
   "outputs": [
    {
     "ename": "UnboundLocalError",
     "evalue": "cannot access local variable 'item_to_remove' where it is not associated with a value",
     "output_type": "error",
     "traceback": [
      "\u001b[31m---------------------------------------------------------------------------\u001b[39m",
      "\u001b[31mUnboundLocalError\u001b[39m                         Traceback (most recent call last)",
      "\u001b[36mCell\u001b[39m\u001b[36m \u001b[39m\u001b[32mIn[55]\u001b[39m\u001b[32m, line 120\u001b[39m\n\u001b[32m    116\u001b[39m             \u001b[38;5;28;01mcontinue\u001b[39;00m\n\u001b[32m    118\u001b[39m \u001b[38;5;28;01melse\u001b[39;00m: \n\u001b[32m    119\u001b[39m     \u001b[38;5;66;03m## soluzione non valida\u001b[39;00m\n\u001b[32m--> \u001b[39m\u001b[32m120\u001b[39m     new_solution = \u001b[43mtweak_non_valida\u001b[49m\u001b[43m(\u001b[49m\u001b[43mcurrent_solution\u001b[49m\u001b[43m)\u001b[49m\n\u001b[32m    121\u001b[39m     (new_fitness, new_cost, new_valid) = cost(new_solution)\n\u001b[32m    123\u001b[39m     \u001b[38;5;28;01mif\u001b[39;00m \u001b[38;5;129;01mnot\u001b[39;00m new_valid: \n\u001b[32m    124\u001b[39m \n\u001b[32m    125\u001b[39m     \u001b[38;5;66;03m## la nuova soluzione non è valida anche essa \u001b[39;00m\n",
      "\u001b[36mCell\u001b[39m\u001b[36m \u001b[39m\u001b[32mIn[55]\u001b[39m\u001b[32m, line 21\u001b[39m, in \u001b[36mtweak_non_valida\u001b[39m\u001b[34m(knapsacs)\u001b[39m\n\u001b[32m     19\u001b[39m \u001b[38;5;28;01mfor\u001b[39;00m i \u001b[38;5;129;01min\u001b[39;00m \u001b[38;5;28mrange\u001b[39m(NUM_ITEMS):\n\u001b[32m     20\u001b[39m     \u001b[38;5;28;01mif\u001b[39;00m new_bags[b][i]:\n\u001b[32m---> \u001b[39m\u001b[32m21\u001b[39m         \u001b[43mitem_to_remove\u001b[49m.append(i)\n\u001b[32m     23\u001b[39m \u001b[38;5;28;01mif\u001b[39;00m \u001b[38;5;28mlen\u001b[39m(items_to_remove) > \u001b[32m0\u001b[39m:\n\u001b[32m     24\u001b[39m     item_to_remove = np.random.choice(items_to_remove)\n",
      "\u001b[31mUnboundLocalError\u001b[39m: cannot access local variable 'item_to_remove' where it is not associated with a value"
     ]
    }
   ],
   "source": [
    "#### OLD SOLUTION# --- IGNORE ---\n",
    "\n",
    "def tweak_non_valida(knapsacs:  list[set] ) -> list[set]:\n",
    "    ## conviene togliere un oggetto da uno zaino che è in sovrappeso\n",
    "    new_bags = deepcopy(knapsacs)\n",
    "    # trova uno zaino in sovrappeso\n",
    "    overweight_bags = []\n",
    "    for b in range(NUM_KNAPSACKS):\n",
    "        total_weight = np.zeros(NUM_DIMENSIONS)\n",
    "        for i in range(NUM_ITEMS):\n",
    "            if new_bags[b][i]:\n",
    "                total_weight += WEIGHTS[i]\n",
    "        if np.any(total_weight > CONSTRAINTS[b]):\n",
    "            overweight_bags.append(b)\n",
    "            \n",
    "\n",
    "    for b in overweight_bags:\n",
    "        items_to_remove= []\n",
    "        for i in range(NUM_ITEMS):\n",
    "            if new_bags[b][i]:\n",
    "                items_to_remove.append(i)\n",
    "        \n",
    "        if len(items_to_remove) > 0:\n",
    "            item_to_remove = np.random.choice(items_to_remove)\n",
    "            new_bags[b][item_to_remove] = False\n",
    "            break  # tweak only one bag\n",
    "    return new_bags\n",
    "\n",
    "def tweak_valida(knapsack: list[set]) -> list[set]:\n",
    "    ## conviene aggiungere un oggetto a uno zaino che non è in sovrappeso\n",
    "    new_bags = deepcopy(knapsack)\n",
    "   \n",
    "    b= np.random.randint(NUM_KNAPSACKS)\n",
    "    # calcolo il peso attuale dello zaino\n",
    "        \n",
    "    knapsack_weight = np.zeros(NUM_DIMENSIONS)\n",
    "    for i in range(NUM_ITEMS):\n",
    "        if new_bags[b][i]:\n",
    "            knapsack_weight += WEIGHTS[i]\n",
    "        \n",
    "    ## prendo un oggetto a caso se non è presente in nessuno zaino lo aggiungo a quello più vuoto al contrario lo scambio\n",
    "    item_to_add = np.random.choice([i for i in range(NUM_ITEMS) ])\n",
    "        \n",
    "    if item_to_add in new_bags[b]:\n",
    "    # lo tolgo e lo metto in un altro zaino\n",
    "        new_bags[b][item_to_add]=False\n",
    "        other_bags = [i for i in range(NUM_KNAPSACKS) if i != b]\n",
    "        other_bag = np.random.choice(other_bags)\n",
    "        new_bags[other_bag][item_to_add] = True\n",
    "    else:\n",
    "            ## lo aggiungo e lo tolgo da un altro zaino se presente\n",
    "        new_bags[b][item_to_add]=True\n",
    "        new_knapsack_weight = knapsack_weight+ WEIGHTS[item_to_add]\n",
    "        if np.any(new_knapsack_weight > CONSTRAINTS[b]):\n",
    "            # non posso aggiungerlo\n",
    "            new_bags[b][item_to_add]=False            \n",
    "    return new_bags\n",
    "\n",
    "#OLD SOLUTION\n",
    "## il costo di una soluzione è dato dalla somma dei valori degli oggetti meno la somma dei sovrappesi\n",
    "# se la soluzione è valida il costo è negativo\n",
    "def cost(solution: list[set]) -> (float, float, bool):\n",
    "    total_value = 0\n",
    "    total_overweight = np.zeros((NUM_KNAPSACKS, NUM_DIMENSIONS))\n",
    "\n",
    "    for b in range(NUM_KNAPSACKS): \n",
    "        knapsack_weight = np.zeros(NUM_DIMENSIONS)\n",
    "        knapsack_value = 0\n",
    "        for i in range(NUM_ITEMS):\n",
    "            if solution[b][i]:\n",
    "                knapsack_value += VALUES[i]\n",
    "                knapsack_weight += WEIGHTS[i]\n",
    "        total_value += knapsack_value\n",
    "        total_overweight[b] = knapsack_weight - CONSTRAINTS[b]\n",
    "\n",
    "    # validità: nessuna componente > 0\n",
    "    valid = not np.any(total_overweight > 0)\n",
    "\n",
    "    # penalità: somma delle eccedenze\n",
    "    penalty = np.sum(np.maximum(0, total_overweight))\n",
    "    # fitness: valore - penalità pesata\n",
    "    alpha = 10\n",
    "    fitness = total_value - alpha * penalty\n",
    "\n",
    "    return fitness, penalty, valid\n",
    "\n",
    "\n",
    "\n",
    "current_solution = np.zeros((NUM_KNAPSACKS, NUM_ITEMS), dtype=bool)\n",
    "for item in range(NUM_ITEMS):\n",
    "    if np.random.random() < 0.5:  # probabilità di assegnare l'oggetto\n",
    "        knapsack = np.random.randint(NUM_KNAPSACKS)\n",
    "        current_solution[knapsack, item] = True\n",
    "\n",
    "(current_fitness, current_cost, current_valid) = cost(current_solution)\n",
    "\n",
    "\n",
    "MAX_STEPS = 500\n",
    "\n",
    "\n",
    "for steps in range(MAX_STEPS):\n",
    "    if current_cost == 0:\n",
    "        break\n",
    "    #ic(current_solution, current_cost, current_value)\n",
    "    if current_valid:\n",
    "        ## soluzione valida\n",
    "        new_solution = tweak_valida(current_solution)\n",
    "        (new_fitness, new_cost, new_valid) = cost(new_solution)\n",
    "        if new_valid:\n",
    "            if new_fitness> current_fitness: \n",
    "                ## la nuova soluzione è valida e il costo si avvicina a zero sempre di più (costo ideale)\n",
    "                current_cost= new_cost\n",
    "                current_fitness= new_fitness\n",
    "                current_solution = new_solution\n",
    "                current_valid= new_valid\n",
    "                continue\n",
    "\n",
    "    else: \n",
    "        ## soluzione non valida\n",
    "        new_solution = tweak_non_valida(current_solution)\n",
    "        (new_fitness, new_cost, new_valid) = cost(new_solution)\n",
    "\n",
    "        if not new_valid: \n",
    "            \n",
    "        ## la nuova soluzione non è valida anche essa \n",
    "            if new_cost < current_cost: # 0<= new < current\n",
    "                # la nuova soluzione si avvicina a essere valida \n",
    "                current_cost = new_cost\n",
    "                current_solution = new_solution\n",
    "                current_fitness= new_fitness\n",
    "                current_valid= new_valid\n",
    "                continue\n",
    "            else:\n",
    "                continue\n",
    "        else:\n",
    "            ## la nuova soluzione è valida \n",
    "            current_cost = new_cost\n",
    "            current_solution = new_solution\n",
    "            current_fitness= new_fitness\n",
    "            current_valid= new_valid\n",
    "            continue\n",
    "\n",
    "    \n",
    "\n",
    "print(current_cost, current_fitness, current_valid)\n",
    "\n"
   ]
  },
  {
   "cell_type": "code",
   "execution_count": 53,
   "id": "370ee598",
   "metadata": {},
   "outputs": [
    {
     "data": {
      "text/plain": [
       "array([[False, False, False, False, False, False, False, False, False,\n",
       "        False, False, False, False, False, False, False, False, False,\n",
       "        False, False],\n",
       "       [False, False, False, False, False, False, False, False, False,\n",
       "        False, False, False, False, False, False, False, False, False,\n",
       "        False, False],\n",
       "       [False, False, False, False, False, False, False, False, False,\n",
       "        False, False, False, False, False, False, False, False, False,\n",
       "        False, False]])"
      ]
     },
     "execution_count": 53,
     "metadata": {},
     "output_type": "execute_result"
    }
   ],
   "source": [
    "solution=current_solution\n",
    "solution"
   ]
  },
  {
   "cell_type": "code",
   "execution_count": 54,
   "id": "42e160aa",
   "metadata": {},
   "outputs": [
    {
     "data": {
      "text/plain": [
       "np.True_"
      ]
     },
     "execution_count": 54,
     "metadata": {},
     "output_type": "execute_result"
    }
   ],
   "source": [
    "# Check if the solution is valid\n",
    "all_knapsacks = np.any(solution, axis=0)\n",
    "np.all(WEIGHTS[all_knapsacks].sum(axis=0) < CONSTRAINTS)"
   ]
  }
 ],
 "metadata": {
  "kernelspec": {
   "display_name": "Python 3",
   "language": "python",
   "name": "python3"
  },
  "language_info": {
   "codemirror_mode": {
    "name": "ipython",
    "version": 3
   },
   "file_extension": ".py",
   "mimetype": "text/x-python",
   "name": "python",
   "nbconvert_exporter": "python",
   "pygments_lexer": "ipython3",
   "version": "3.13.2"
  }
 },
 "nbformat": 4,
 "nbformat_minor": 5
}
